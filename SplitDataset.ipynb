{
 "cells": [
  {
   "cell_type": "markdown",
   "id": "e166fdec-8d8e-4cf9-8c93-629776e4fdc7",
   "metadata": {},
   "source": [
    "## Importing libraries"
   ]
  },
  {
   "cell_type": "code",
   "execution_count": 22,
   "id": "6edc4166-2551-48ce-a224-6819d3ebdaea",
   "metadata": {},
   "outputs": [],
   "source": [
    "import os\n",
    "import shutil\n",
    "import pandas as pd"
   ]
  },
  {
   "cell_type": "markdown",
   "id": "29fbb9d4-9ee2-489b-b70a-0b099c7e752d",
   "metadata": {},
   "source": [
    "## Setting up meta parameters"
   ]
  },
  {
   "cell_type": "code",
   "execution_count": 23,
   "id": "3e600d12-a88c-44e4-a06a-7eadd2c61ab1",
   "metadata": {},
   "outputs": [],
   "source": [
    "dataset_dir = \"Datasets\\\\TrainingDatasets\""
   ]
  },
  {
   "cell_type": "markdown",
   "id": "b04d66d4-ab08-4738-a992-85b041f4a05d",
   "metadata": {},
   "source": [
    "## Loading the dataset paths"
   ]
  },
  {
   "cell_type": "code",
   "execution_count": 24,
   "id": "2be9daa2-8514-4807-98a5-cb8ed88a895f",
   "metadata": {},
   "outputs": [],
   "source": [
    "def get_labels_images(path):\n",
    "    labels = []\n",
    "    images = []\n",
    "    directories = []\n",
    "    \n",
    "    for directory in os.listdir(path):\n",
    "        for Label in os.listdir(path + '/' + directory):\n",
    "            for Image in os.listdir(path + '/' + directory + '/' + Label):\n",
    "                directories.append(directory)\n",
    "                labels.append(Label)\n",
    "                images.append(directory + '/' + Label + '/' + Image)\n",
    "                \n",
    "    return pd.DataFrame({'directories':directories, 'labels':labels, 'images':images})"
   ]
  },
  {
   "cell_type": "code",
   "execution_count": 25,
   "id": "375d60d8-5c8e-4709-a984-547fe6145152",
   "metadata": {},
   "outputs": [],
   "source": [
    "df = get_labels_images(dataset_dir)"
   ]
  },
  {
   "cell_type": "code",
   "execution_count": 31,
   "id": "30961846-3f00-4b66-83ef-4bad12d827c5",
   "metadata": {},
   "outputs": [
    {
     "data": {
      "text/html": [
       "<div>\n",
       "<style scoped>\n",
       "    .dataframe tbody tr th:only-of-type {\n",
       "        vertical-align: middle;\n",
       "    }\n",
       "\n",
       "    .dataframe tbody tr th {\n",
       "        vertical-align: top;\n",
       "    }\n",
       "\n",
       "    .dataframe thead th {\n",
       "        text-align: right;\n",
       "    }\n",
       "</style>\n",
       "<table border=\"1\" class=\"dataframe\">\n",
       "  <thead>\n",
       "    <tr style=\"text-align: right;\">\n",
       "      <th></th>\n",
       "      <th>directories</th>\n",
       "      <th>labels</th>\n",
       "      <th>images</th>\n",
       "    </tr>\n",
       "  </thead>\n",
       "  <tbody>\n",
       "    <tr>\n",
       "      <th>436428</th>\n",
       "      <td>H</td>\n",
       "      <td>z</td>\n",
       "      <td>H/z/z_9_rotate_5.jpeg</td>\n",
       "    </tr>\n",
       "    <tr>\n",
       "      <th>436429</th>\n",
       "      <td>H</td>\n",
       "      <td>z</td>\n",
       "      <td>H/z/z_9_rotate_6.jpeg</td>\n",
       "    </tr>\n",
       "    <tr>\n",
       "      <th>436430</th>\n",
       "      <td>H</td>\n",
       "      <td>z</td>\n",
       "      <td>H/z/z_9_rotate_7.jpeg</td>\n",
       "    </tr>\n",
       "    <tr>\n",
       "      <th>436431</th>\n",
       "      <td>H</td>\n",
       "      <td>z</td>\n",
       "      <td>H/z/z_9_rotate_8.jpeg</td>\n",
       "    </tr>\n",
       "    <tr>\n",
       "      <th>436432</th>\n",
       "      <td>H</td>\n",
       "      <td>z</td>\n",
       "      <td>H/z/z_9_rotate_9.jpeg</td>\n",
       "    </tr>\n",
       "  </tbody>\n",
       "</table>\n",
       "</div>"
      ],
      "text/plain": [
       "       directories labels                 images\n",
       "436428           H      z  H/z/z_9_rotate_5.jpeg\n",
       "436429           H      z  H/z/z_9_rotate_6.jpeg\n",
       "436430           H      z  H/z/z_9_rotate_7.jpeg\n",
       "436431           H      z  H/z/z_9_rotate_8.jpeg\n",
       "436432           H      z  H/z/z_9_rotate_9.jpeg"
      ]
     },
     "execution_count": 31,
     "metadata": {},
     "output_type": "execute_result"
    }
   ],
   "source": [
    "df.tail()"
   ]
  },
  {
   "cell_type": "markdown",
   "id": "c4945814-8c75-49e0-b57e-d03c0a01c5da",
   "metadata": {},
   "source": [
    "## Copying dataset into separate subsets"
   ]
  },
  {
   "cell_type": "code",
   "execution_count": 30,
   "id": "d99c5873-0373-4431-9314-cc273f539ce5",
   "metadata": {},
   "outputs": [],
   "source": [
    "image_treshold = 24247\n",
    "image_count = 0\n",
    "directory_count = 0\n",
    "\n",
    "generic_destination = \"SplitDataset\\\\\"\n",
    "\n",
    "for idx, row in df.iterrows():\n",
    "    specific_destination = \"Subset\" + str(directory_count) + \"\\\\\"\n",
    "    image_extension = os.path.splitext(df.iloc[idx].images)[1]\n",
    "    \n",
    "    shutil.copyfile(dataset_dir + \"\\\\\" + df.iloc[idx].images, generic_destination + specific_destination + \"image_\" + str(image_count) + image_extension)\n",
    "\n",
    "    image_count += 1\n",
    "    if image_count > image_treshold:\n",
    "        image_count = 0\n",
    "        directory_count += 1"
   ]
  }
 ],
 "metadata": {
  "kernelspec": {
   "display_name": "VisualAttentionAsExplanation",
   "language": "python",
   "name": "visualattentionasexplanation"
  },
  "language_info": {
   "codemirror_mode": {
    "name": "ipython",
    "version": 3
   },
   "file_extension": ".py",
   "mimetype": "text/x-python",
   "name": "python",
   "nbconvert_exporter": "python",
   "pygments_lexer": "ipython3",
   "version": "3.13.6"
  }
 },
 "nbformat": 4,
 "nbformat_minor": 5
}
