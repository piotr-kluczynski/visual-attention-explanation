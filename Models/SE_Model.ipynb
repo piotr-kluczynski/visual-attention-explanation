{
 "cells": [
  {
   "cell_type": "markdown",
   "id": "a7970bbd-a620-415c-88d9-55d0ced83be3",
   "metadata": {},
   "source": [
    "## Importing libraries"
   ]
  },
  {
   "cell_type": "code",
   "execution_count": 2,
   "id": "30442c7c-2acf-46f7-8a4f-5b7ff4047c5e",
   "metadata": {},
   "outputs": [],
   "source": [
    "import keras\n",
    "import os\n",
    "import pickle\n",
    "import tensorflow as tf\n",
    "import pandas as pd\n",
    "import keras\n",
    "\n",
    "from keras import callbacks\n",
    "from keras.saving import save_model\n",
    "from tensorflow.keras import layers\n",
    "from tensorflow.keras import optimizers\n",
    "from sklearn.model_selection import train_test_split\n",
    "from tensorflow.keras.preprocessing.image import ImageDataGenerator\n",
    "from keras.layers import Dense, Conv2D, MaxPooling2D, Flatten, Dropout, BatchNormalization"
   ]
  },
  {
   "cell_type": "markdown",
   "id": "1ae499fe-3212-41e6-8a3b-4c953cc94bf8",
   "metadata": {},
   "source": [
    "## Setting up meta parameters"
   ]
  },
  {
   "cell_type": "code",
   "execution_count": 3,
   "id": "c55c7ced-c3a5-4a3f-a60d-9e67f9a368dc",
   "metadata": {},
   "outputs": [],
   "source": [
    "IMAGE_WIDTH = 64\n",
    "IMAGE_HEIGHT = 64\n",
    "IMAGE_SIZE=(IMAGE_WIDTH, IMAGE_HEIGHT)\n",
    "BATCH_SIZE = 128\n",
    "SEED = 99\n",
    "LABEL_CLASS = 26\n",
    "IMAGE_CHANNELS= 3\n",
    "LEARNINGRATE = 1e-5\n",
    "WEIGHTS = \"vgg19_weights_tf_dim_ordering_tf_kernels_notop.h5\"\n",
    "\n",
    "start_epoch = 0\n",
    "dataset_dir = os.path.abspath(\"..\\\\Datasets\\\\TrainingDatasets\")\n",
    "checkpoints_dir = os.path.abspath(\"TrainingCheckpoints\\\\SE\")\n",
    "checkpoints_path = os.path.join(checkpoints_dir, \"cp-{epoch:04d}.keras\")\n",
    "datagen = ImageDataGenerator(rescale=1.0/255)\n",
    "data_gen_args = dict(directory=dataset_dir, x_col='images', y_col='labels', target_size=IMAGE_SIZE, class_mode='categorical', batch_size=BATCH_SIZE, seed = SEED)\n",
    "early_stop = callbacks.EarlyStopping(monitor='val_loss', patience = 5, verbose = 1, restore_best_weights=True)\n",
    "learningrate_reduction = callbacks.ReduceLROnPlateau(monitor='val_loss', patience= 2, verbose= 1)"
   ]
  },
  {
   "cell_type": "markdown",
   "id": "c1587d97-0893-49ff-82de-40e7c62f9383",
   "metadata": {},
   "source": [
    "## Attention definition"
   ]
  },
  {
   "cell_type": "code",
   "execution_count": 4,
   "id": "1ac31e91-9f77-41b2-adb3-f5e7540b2743",
   "metadata": {},
   "outputs": [],
   "source": [
    "class Squeeze_Excite(layers.Layer):\n",
    "    def __init__(self, channels, se_id, ratio = 16):\n",
    "        super().__init__(name=f\"SE_{se_id}\")\n",
    "\n",
    "        # Property for saving last attention map\n",
    "        self.attention_map = None\n",
    "        \n",
    "        self.pool = layers.GlobalAveragePooling2D(name=f\"se{se_id}_global_avg_pool\")                 \n",
    "        self.dense1 = layers.Dense(channels // ratio, activation='relu', name=f\"se{se_id}_dense1\")\n",
    "        self.dense2 = layers.Dense(channels, activation='sigmoid', name=f\"se{se_id}_dense2\")\n",
    "\n",
    "    def compute_output_shape(self, input_shape):\n",
    "        return input_shape\n",
    "\n",
    "    def build(self, input_shape):\n",
    "        x_shape = input_shape\n",
    "\n",
    "        self.pool.build(x_shape)\n",
    "        x_shape = self.pool.compute_output_shape(x_shape)\n",
    "\n",
    "        self.dense1.build(x_shape)\n",
    "        x_shape = self.dense1.compute_output_shape(x_shape)\n",
    "\n",
    "        self.dense2.build(x_shape)\n",
    "        x_shape = self.dense2.compute_output_shape(x_shape)\n",
    "\n",
    "    def call(self, input, save_attention=False):\n",
    "        x = self.pool(input)\n",
    "        x = self.dense1(x)\n",
    "        x = self.dense2(x)\n",
    "        x = tf.expand_dims(tf.expand_dims(x, 1), 1)\n",
    "\n",
    "        if save_attention:\n",
    "            self.attention_map = x\n",
    "\n",
    "        return input * x"
   ]
  },
  {
   "cell_type": "markdown",
   "id": "5561ea83-e12b-40e8-81cd-03415ff566f0",
   "metadata": {},
   "source": [
    "## Model definition"
   ]
  },
  {
   "cell_type": "code",
   "execution_count": 5,
   "id": "f5cb703b-56cc-4c42-b152-c16b705d0029",
   "metadata": {},
   "outputs": [],
   "source": [
    "@keras.saving.register_keras_serializable(package=\"Custom\")\n",
    "class SE_Model(keras.Model):\n",
    "    def __init__(self, name=\"SeModel\", **kwargs):\n",
    "        super().__init__(**kwargs)\n",
    "        self.name = name\n",
    "        \n",
    "        # VGG19\n",
    "        # Block 1\n",
    "        self.vgg19_block1_conv1 = Conv2D(64, (3, 3), activation=\"relu\", padding=\"same\", name=\"block1_conv1\")\n",
    "        self.vgg19_block1_conv2 = Conv2D(64, (3, 3), activation=\"relu\", padding=\"same\", name=\"block1_conv2\")\n",
    "        self.vgg19_block1_attention = Squeeze_Excite(64, se_id='block1')\n",
    "        self.vgg19_block1_pool = MaxPooling2D((2, 2), strides=(2, 2), name=\"block1_pool\")\n",
    "\n",
    "        # Block 2\n",
    "        self.vgg19_block2_conv1 = Conv2D(128, (3, 3), activation=\"relu\", padding=\"same\", name=\"block2_conv1\")\n",
    "        self.vgg19_block2_conv2 = Conv2D(128, (3, 3), activation=\"relu\", padding=\"same\", name=\"block2_conv2\")\n",
    "        self.vgg19_block2_attention = Squeeze_Excite(128, se_id='block2')\n",
    "        self.vgg19_block2_pool = MaxPooling2D((2, 2), strides=(2, 2), name=\"block2_pool\")\n",
    "\n",
    "        # Block 3\n",
    "        self.vgg19_block3_conv1 = Conv2D(256, (3, 3), activation=\"relu\", padding=\"same\", name=\"block3_conv1\")\n",
    "        self.vgg19_block3_conv2 = Conv2D(256, (3, 3), activation=\"relu\", padding=\"same\", name=\"block3_conv2\")\n",
    "        self.vgg19_block3_conv3 = Conv2D(256, (3, 3), activation=\"relu\", padding=\"same\", name=\"block3_conv3\")\n",
    "        self.vgg19_block3_conv4 = Conv2D(256, (3, 3), activation=\"relu\", padding=\"same\", name=\"block3_conv4\")\n",
    "        self.vgg19_block3_attention = Squeeze_Excite(256, se_id='block3')\n",
    "        self.vgg19_block3_pool = MaxPooling2D((2, 2), strides=(2, 2), name=\"block3_pool\")\n",
    "        \n",
    "        # Block 4\n",
    "        self.vgg19_block4_conv1 = Conv2D(512, (3, 3), activation=\"relu\", padding=\"same\", name=\"block4_conv1\")\n",
    "        self.vgg19_block4_conv2 = Conv2D(512, (3, 3), activation=\"relu\", padding=\"same\", name=\"block4_conv2\")\n",
    "        self.vgg19_block4_conv3 = Conv2D(512, (3, 3), activation=\"relu\", padding=\"same\", name=\"block4_conv3\")\n",
    "        self.vgg19_block4_conv4 = Conv2D(512, (3, 3), activation=\"relu\", padding=\"same\", name=\"block4_conv4\")\n",
    "        self.vgg19_block4_attention = Squeeze_Excite(512, se_id='block4')\n",
    "        self.vgg19_block4_pool = MaxPooling2D((2, 2), strides=(2, 2), name=\"block4_pool\")\n",
    "\n",
    "        # Block 5\n",
    "        self.vgg19_block5_conv1 = Conv2D(512, (3, 3), activation=\"relu\", padding=\"same\", name=\"block5_conv1\")\n",
    "        self.vgg19_block5_conv2 = Conv2D(512, (3, 3), activation=\"relu\", padding=\"same\", name=\"block5_conv2\")\n",
    "        self.vgg19_block5_conv3 = Conv2D(512, (3, 3), activation=\"relu\", padding=\"same\", name=\"block5_conv3\")\n",
    "        self.vgg19_block5_conv4 = Conv2D(512, (3, 3), activation=\"relu\", padding=\"same\", name=\"block5_conv4\")\n",
    "        self.vgg19_block5_attention = Squeeze_Excite(512, se_id='block5')\n",
    "        self.vgg19_block5_pool = MaxPooling2D((2, 2), strides=(2, 2), name=\"block5_pool\")\n",
    "\n",
    "        # Classifier layer\n",
    "        self.class_flatten = Flatten(name=\"class_flatten\")\n",
    "        \n",
    "        self.class_dense1 = Dense(512, activation = 'relu', name=\"class_dense1\")\n",
    "        self.class_dropout1 = Dropout(0.4, name=\"class_dropout1\")\n",
    "        self.class_batch1 = BatchNormalization(name=\"class_batch1\")\n",
    "        \n",
    "        self.class_dense2 = Dense(512, activation = 'relu', name=\"class_dense2\")\n",
    "        self.class_dropout2 = Dropout(0.3, name=\"class_dropout2\")\n",
    "        self.class_batch2 = BatchNormalization(name=\"class_batch2\")\n",
    "\n",
    "        self.class_dense3 = Dense(LABEL_CLASS, activation = 'softmax', name=\"class_dense3\")\n",
    "\n",
    "    def call(self, inputs, save_attention=False, training=False):\n",
    "        # VGG19\n",
    "        # Block 1\n",
    "        x = self.vgg19_block1_conv1(inputs)\n",
    "        x = self.vgg19_block1_conv2(x)\n",
    "        x = self.vgg19_block1_attention(x, save_attention=save_attention)\n",
    "        x = self.vgg19_block1_pool(x)\n",
    "\n",
    "        # Block 2\n",
    "        x = self.vgg19_block2_conv1(x)\n",
    "        x = self.vgg19_block2_conv2(x)\n",
    "        x = self.vgg19_block2_attention(x, save_attention=save_attention)\n",
    "        x = self.vgg19_block2_pool(x)\n",
    "\n",
    "        # Block 3\n",
    "        x = self.vgg19_block3_conv1(x)\n",
    "        x = self.vgg19_block3_conv2(x)\n",
    "        x = self.vgg19_block3_conv3(x)\n",
    "        x = self.vgg19_block3_conv4(x)\n",
    "        x = self.vgg19_block3_attention(x, save_attention=save_attention)\n",
    "        x = self.vgg19_block3_pool(x)\n",
    "\n",
    "        # Block 4\n",
    "        x = self.vgg19_block4_conv1(x)\n",
    "        x = self.vgg19_block4_conv2(x)\n",
    "        x = self.vgg19_block4_conv3(x)\n",
    "        x = self.vgg19_block4_conv4(x)\n",
    "        x = self.vgg19_block4_attention(x, save_attention=save_attention)\n",
    "        x = self.vgg19_block4_pool(x)\n",
    "\n",
    "        # Block 5\n",
    "        x = self.vgg19_block5_conv1(x)\n",
    "        x = self.vgg19_block5_conv2(x)\n",
    "        x = self.vgg19_block5_conv3(x)\n",
    "        x = self.vgg19_block5_conv4(x)\n",
    "        x = self.vgg19_block5_attention(x, save_attention=save_attention)\n",
    "        x = self.vgg19_block5_pool(x)\n",
    "\n",
    "        # Classifier layer\n",
    "        x = self.class_flatten(x)\n",
    "\n",
    "        x = self.class_dense1(x)\n",
    "        x = self.class_dropout1(x, training=training)\n",
    "        x = self.class_batch1(x, training=training)\n",
    "\n",
    "        x = self.class_dense2(x)\n",
    "        x = self.class_dropout2(x, training=training)\n",
    "        x = self.class_batch2(x, training=training)\n",
    "\n",
    "        x = self.class_dense3(x)\n",
    "\n",
    "        return x\n",
    "\n",
    "    def build(self, input_shape):\n",
    "        # VGG19\n",
    "        # Block 1\n",
    "        self.vgg19_block1_conv1.build(input_shape)\n",
    "        x_shape = self.vgg19_block1_conv1.compute_output_shape(input_shape)\n",
    "        self.vgg19_block1_conv2.build(x_shape)\n",
    "        x_shape = self.vgg19_block1_conv2.compute_output_shape(x_shape)\n",
    "        self.vgg19_block1_attention.build(x_shape)\n",
    "        x_shape = self.vgg19_block1_attention.compute_output_shape(x_shape)\n",
    "        self.vgg19_block1_pool.build(x_shape)\n",
    "        x_shape = self.vgg19_block1_pool.compute_output_shape(x_shape)\n",
    "\n",
    "        # Block 2\n",
    "        self.vgg19_block2_conv1.build(x_shape)\n",
    "        x_shape = self.vgg19_block2_conv1.compute_output_shape(x_shape)\n",
    "        self.vgg19_block2_conv2.build(x_shape)\n",
    "        x_shape = self.vgg19_block2_conv2.compute_output_shape(x_shape)\n",
    "        self.vgg19_block2_attention.build(x_shape)\n",
    "        x_shape = self.vgg19_block2_attention.compute_output_shape(x_shape)\n",
    "        self.vgg19_block2_pool.build(x_shape)\n",
    "        x_shape = self.vgg19_block2_pool.compute_output_shape(x_shape)\n",
    "\n",
    "        # Block 3\n",
    "        self.vgg19_block3_conv1.build(x_shape)\n",
    "        x_shape = self.vgg19_block3_conv1.compute_output_shape(x_shape)\n",
    "        self.vgg19_block3_conv2.build(x_shape)\n",
    "        x_shape = self.vgg19_block3_conv2.compute_output_shape(x_shape)\n",
    "        self.vgg19_block3_conv3.build(x_shape)\n",
    "        x_shape = self.vgg19_block3_conv3.compute_output_shape(x_shape)\n",
    "        self.vgg19_block3_conv4.build(x_shape)\n",
    "        x_shape = self.vgg19_block3_conv4.compute_output_shape(x_shape)\n",
    "        self.vgg19_block3_attention.build(x_shape)\n",
    "        x_shape = self.vgg19_block3_attention.compute_output_shape(x_shape)\n",
    "        self.vgg19_block3_pool.build(x_shape)\n",
    "        x_shape = self.vgg19_block3_pool.compute_output_shape(x_shape)\n",
    "\n",
    "        # Block 4\n",
    "        self.vgg19_block4_conv1.build(x_shape)\n",
    "        x_shape = self.vgg19_block4_conv1.compute_output_shape(x_shape)\n",
    "        self.vgg19_block4_conv2.build(x_shape)\n",
    "        x_shape = self.vgg19_block4_conv2.compute_output_shape(x_shape)\n",
    "        self.vgg19_block4_conv3.build(x_shape)\n",
    "        x_shape = self.vgg19_block4_conv3.compute_output_shape(x_shape)\n",
    "        self.vgg19_block4_conv4.build(x_shape)\n",
    "        x_shape = self.vgg19_block4_conv4.compute_output_shape(x_shape)\n",
    "        self.vgg19_block4_attention.build(x_shape)\n",
    "        x_shape = self.vgg19_block4_attention.compute_output_shape(x_shape)\n",
    "        self.vgg19_block4_pool.build(x_shape)\n",
    "        x_shape = self.vgg19_block4_pool.compute_output_shape(x_shape)\n",
    "\n",
    "        # Block 5\n",
    "        self.vgg19_block5_conv1.build(x_shape)\n",
    "        x_shape = self.vgg19_block5_conv1.compute_output_shape(x_shape)\n",
    "        self.vgg19_block5_conv2.build(x_shape)\n",
    "        x_shape = self.vgg19_block5_conv2.compute_output_shape(x_shape)\n",
    "        self.vgg19_block5_conv3.build(x_shape)\n",
    "        x_shape = self.vgg19_block5_conv3.compute_output_shape(x_shape)\n",
    "        self.vgg19_block5_conv4.build(x_shape)\n",
    "        x_shape = self.vgg19_block5_conv4.compute_output_shape(x_shape)\n",
    "        self.vgg19_block5_attention.build(x_shape)\n",
    "        x_shape = self.vgg19_block5_attention.compute_output_shape(x_shape)\n",
    "        self.vgg19_block5_pool.build(x_shape)\n",
    "        x_shape = self.vgg19_block5_pool.compute_output_shape(x_shape)\n",
    "\n",
    "        # Classifier layer\n",
    "        self.class_flatten.build(x_shape)\n",
    "        x_shape = self.class_flatten.compute_output_shape(x_shape)\n",
    "        self.class_dense1.build(x_shape)\n",
    "        x_shape = self.class_dense1.compute_output_shape(x_shape)\n",
    "        self.class_dropout1.build(x_shape)\n",
    "        x_shape = self.class_dropout1.compute_output_shape(x_shape)\n",
    "        self.class_batch1.build(x_shape)\n",
    "        x_shape = self.class_batch1.compute_output_shape(x_shape)\n",
    "        \n",
    "        self.class_dense2.build(x_shape)\n",
    "        x_shape = self.class_dense2.compute_output_shape(x_shape)\n",
    "        self.class_dropout2.build(x_shape)\n",
    "        x_shape = self.class_dropout2.compute_output_shape(x_shape)\n",
    "        self.class_batch2.build(x_shape)\n",
    "        x_shape = self.class_batch2.compute_output_shape(x_shape)\n",
    "\n",
    "        self.class_dense3.build(x_shape)"
   ]
  },
  {
   "cell_type": "markdown",
   "id": "61d50355-73da-470b-a303-96179d013df7",
   "metadata": {},
   "source": [
    "## Building the model"
   ]
  },
  {
   "cell_type": "code",
   "execution_count": 6,
   "id": "c9ca9a21-345c-4a8b-afc0-26884a315436",
   "metadata": {
    "scrolled": true
   },
   "outputs": [
    {
     "data": {
      "text/html": [
       "<pre style=\"white-space:pre;overflow-x:auto;line-height:normal;font-family:Menlo,'DejaVu Sans Mono',consolas,'Courier New',monospace\"><span style=\"font-weight: bold\">Model: \"SeModel\"</span>\n",
       "</pre>\n"
      ],
      "text/plain": [
       "\u001b[1mModel: \"SeModel\"\u001b[0m\n"
      ]
     },
     "metadata": {},
     "output_type": "display_data"
    },
    {
     "data": {
      "text/html": [
       "<pre style=\"white-space:pre;overflow-x:auto;line-height:normal;font-family:Menlo,'DejaVu Sans Mono',consolas,'Courier New',monospace\">┏━━━━━━━━━━━━━━━━━━━━━━━━━━━━━━━━━━━━━━┳━━━━━━━━━━━━━━━━━━━━━━━━━━━━━┳━━━━━━━━━━━━━━━━━┓\n",
       "┃<span style=\"font-weight: bold\"> Layer (type)                         </span>┃<span style=\"font-weight: bold\"> Output Shape                </span>┃<span style=\"font-weight: bold\">         Param # </span>┃\n",
       "┡━━━━━━━━━━━━━━━━━━━━━━━━━━━━━━━━━━━━━━╇━━━━━━━━━━━━━━━━━━━━━━━━━━━━━╇━━━━━━━━━━━━━━━━━┩\n",
       "│ block1_conv1 (<span style=\"color: #0087ff; text-decoration-color: #0087ff\">Conv2D</span>)                │ (<span style=\"color: #00d7ff; text-decoration-color: #00d7ff\">None</span>, <span style=\"color: #00af00; text-decoration-color: #00af00\">64</span>, <span style=\"color: #00af00; text-decoration-color: #00af00\">64</span>, <span style=\"color: #00af00; text-decoration-color: #00af00\">64</span>)          │           <span style=\"color: #00af00; text-decoration-color: #00af00\">1,792</span> │\n",
       "├──────────────────────────────────────┼─────────────────────────────┼─────────────────┤\n",
       "│ block1_conv2 (<span style=\"color: #0087ff; text-decoration-color: #0087ff\">Conv2D</span>)                │ (<span style=\"color: #00d7ff; text-decoration-color: #00d7ff\">None</span>, <span style=\"color: #00af00; text-decoration-color: #00af00\">64</span>, <span style=\"color: #00af00; text-decoration-color: #00af00\">64</span>, <span style=\"color: #00af00; text-decoration-color: #00af00\">64</span>)          │          <span style=\"color: #00af00; text-decoration-color: #00af00\">36,928</span> │\n",
       "├──────────────────────────────────────┼─────────────────────────────┼─────────────────┤\n",
       "│ SE_block1 (<span style=\"color: #0087ff; text-decoration-color: #0087ff\">Squeeze_Excite</span>)           │ (<span style=\"color: #00d7ff; text-decoration-color: #00d7ff\">None</span>, <span style=\"color: #00af00; text-decoration-color: #00af00\">64</span>, <span style=\"color: #00af00; text-decoration-color: #00af00\">64</span>, <span style=\"color: #00af00; text-decoration-color: #00af00\">64</span>)          │             <span style=\"color: #00af00; text-decoration-color: #00af00\">580</span> │\n",
       "├──────────────────────────────────────┼─────────────────────────────┼─────────────────┤\n",
       "│ block1_pool (<span style=\"color: #0087ff; text-decoration-color: #0087ff\">MaxPooling2D</span>)           │ (<span style=\"color: #00d7ff; text-decoration-color: #00d7ff\">None</span>, <span style=\"color: #00af00; text-decoration-color: #00af00\">32</span>, <span style=\"color: #00af00; text-decoration-color: #00af00\">32</span>, <span style=\"color: #00af00; text-decoration-color: #00af00\">64</span>)          │               <span style=\"color: #00af00; text-decoration-color: #00af00\">0</span> │\n",
       "├──────────────────────────────────────┼─────────────────────────────┼─────────────────┤\n",
       "│ block2_conv1 (<span style=\"color: #0087ff; text-decoration-color: #0087ff\">Conv2D</span>)                │ (<span style=\"color: #00d7ff; text-decoration-color: #00d7ff\">None</span>, <span style=\"color: #00af00; text-decoration-color: #00af00\">32</span>, <span style=\"color: #00af00; text-decoration-color: #00af00\">32</span>, <span style=\"color: #00af00; text-decoration-color: #00af00\">128</span>)         │          <span style=\"color: #00af00; text-decoration-color: #00af00\">73,856</span> │\n",
       "├──────────────────────────────────────┼─────────────────────────────┼─────────────────┤\n",
       "│ block2_conv2 (<span style=\"color: #0087ff; text-decoration-color: #0087ff\">Conv2D</span>)                │ (<span style=\"color: #00d7ff; text-decoration-color: #00d7ff\">None</span>, <span style=\"color: #00af00; text-decoration-color: #00af00\">32</span>, <span style=\"color: #00af00; text-decoration-color: #00af00\">32</span>, <span style=\"color: #00af00; text-decoration-color: #00af00\">128</span>)         │         <span style=\"color: #00af00; text-decoration-color: #00af00\">147,584</span> │\n",
       "├──────────────────────────────────────┼─────────────────────────────┼─────────────────┤\n",
       "│ SE_block2 (<span style=\"color: #0087ff; text-decoration-color: #0087ff\">Squeeze_Excite</span>)           │ (<span style=\"color: #00d7ff; text-decoration-color: #00d7ff\">None</span>, <span style=\"color: #00af00; text-decoration-color: #00af00\">32</span>, <span style=\"color: #00af00; text-decoration-color: #00af00\">32</span>, <span style=\"color: #00af00; text-decoration-color: #00af00\">128</span>)         │           <span style=\"color: #00af00; text-decoration-color: #00af00\">2,184</span> │\n",
       "├──────────────────────────────────────┼─────────────────────────────┼─────────────────┤\n",
       "│ block2_pool (<span style=\"color: #0087ff; text-decoration-color: #0087ff\">MaxPooling2D</span>)           │ (<span style=\"color: #00d7ff; text-decoration-color: #00d7ff\">None</span>, <span style=\"color: #00af00; text-decoration-color: #00af00\">16</span>, <span style=\"color: #00af00; text-decoration-color: #00af00\">16</span>, <span style=\"color: #00af00; text-decoration-color: #00af00\">128</span>)         │               <span style=\"color: #00af00; text-decoration-color: #00af00\">0</span> │\n",
       "├──────────────────────────────────────┼─────────────────────────────┼─────────────────┤\n",
       "│ block3_conv1 (<span style=\"color: #0087ff; text-decoration-color: #0087ff\">Conv2D</span>)                │ (<span style=\"color: #00d7ff; text-decoration-color: #00d7ff\">None</span>, <span style=\"color: #00af00; text-decoration-color: #00af00\">16</span>, <span style=\"color: #00af00; text-decoration-color: #00af00\">16</span>, <span style=\"color: #00af00; text-decoration-color: #00af00\">256</span>)         │         <span style=\"color: #00af00; text-decoration-color: #00af00\">295,168</span> │\n",
       "├──────────────────────────────────────┼─────────────────────────────┼─────────────────┤\n",
       "│ block3_conv2 (<span style=\"color: #0087ff; text-decoration-color: #0087ff\">Conv2D</span>)                │ (<span style=\"color: #00d7ff; text-decoration-color: #00d7ff\">None</span>, <span style=\"color: #00af00; text-decoration-color: #00af00\">16</span>, <span style=\"color: #00af00; text-decoration-color: #00af00\">16</span>, <span style=\"color: #00af00; text-decoration-color: #00af00\">256</span>)         │         <span style=\"color: #00af00; text-decoration-color: #00af00\">590,080</span> │\n",
       "├──────────────────────────────────────┼─────────────────────────────┼─────────────────┤\n",
       "│ block3_conv3 (<span style=\"color: #0087ff; text-decoration-color: #0087ff\">Conv2D</span>)                │ (<span style=\"color: #00d7ff; text-decoration-color: #00d7ff\">None</span>, <span style=\"color: #00af00; text-decoration-color: #00af00\">16</span>, <span style=\"color: #00af00; text-decoration-color: #00af00\">16</span>, <span style=\"color: #00af00; text-decoration-color: #00af00\">256</span>)         │         <span style=\"color: #00af00; text-decoration-color: #00af00\">590,080</span> │\n",
       "├──────────────────────────────────────┼─────────────────────────────┼─────────────────┤\n",
       "│ block3_conv4 (<span style=\"color: #0087ff; text-decoration-color: #0087ff\">Conv2D</span>)                │ (<span style=\"color: #00d7ff; text-decoration-color: #00d7ff\">None</span>, <span style=\"color: #00af00; text-decoration-color: #00af00\">16</span>, <span style=\"color: #00af00; text-decoration-color: #00af00\">16</span>, <span style=\"color: #00af00; text-decoration-color: #00af00\">256</span>)         │         <span style=\"color: #00af00; text-decoration-color: #00af00\">590,080</span> │\n",
       "├──────────────────────────────────────┼─────────────────────────────┼─────────────────┤\n",
       "│ SE_block3 (<span style=\"color: #0087ff; text-decoration-color: #0087ff\">Squeeze_Excite</span>)           │ (<span style=\"color: #00d7ff; text-decoration-color: #00d7ff\">None</span>, <span style=\"color: #00af00; text-decoration-color: #00af00\">16</span>, <span style=\"color: #00af00; text-decoration-color: #00af00\">16</span>, <span style=\"color: #00af00; text-decoration-color: #00af00\">256</span>)         │           <span style=\"color: #00af00; text-decoration-color: #00af00\">8,464</span> │\n",
       "├──────────────────────────────────────┼─────────────────────────────┼─────────────────┤\n",
       "│ block3_pool (<span style=\"color: #0087ff; text-decoration-color: #0087ff\">MaxPooling2D</span>)           │ (<span style=\"color: #00d7ff; text-decoration-color: #00d7ff\">None</span>, <span style=\"color: #00af00; text-decoration-color: #00af00\">8</span>, <span style=\"color: #00af00; text-decoration-color: #00af00\">8</span>, <span style=\"color: #00af00; text-decoration-color: #00af00\">256</span>)           │               <span style=\"color: #00af00; text-decoration-color: #00af00\">0</span> │\n",
       "├──────────────────────────────────────┼─────────────────────────────┼─────────────────┤\n",
       "│ block4_conv1 (<span style=\"color: #0087ff; text-decoration-color: #0087ff\">Conv2D</span>)                │ (<span style=\"color: #00d7ff; text-decoration-color: #00d7ff\">None</span>, <span style=\"color: #00af00; text-decoration-color: #00af00\">8</span>, <span style=\"color: #00af00; text-decoration-color: #00af00\">8</span>, <span style=\"color: #00af00; text-decoration-color: #00af00\">512</span>)           │       <span style=\"color: #00af00; text-decoration-color: #00af00\">1,180,160</span> │\n",
       "├──────────────────────────────────────┼─────────────────────────────┼─────────────────┤\n",
       "│ block4_conv2 (<span style=\"color: #0087ff; text-decoration-color: #0087ff\">Conv2D</span>)                │ (<span style=\"color: #00d7ff; text-decoration-color: #00d7ff\">None</span>, <span style=\"color: #00af00; text-decoration-color: #00af00\">8</span>, <span style=\"color: #00af00; text-decoration-color: #00af00\">8</span>, <span style=\"color: #00af00; text-decoration-color: #00af00\">512</span>)           │       <span style=\"color: #00af00; text-decoration-color: #00af00\">2,359,808</span> │\n",
       "├──────────────────────────────────────┼─────────────────────────────┼─────────────────┤\n",
       "│ block4_conv3 (<span style=\"color: #0087ff; text-decoration-color: #0087ff\">Conv2D</span>)                │ (<span style=\"color: #00d7ff; text-decoration-color: #00d7ff\">None</span>, <span style=\"color: #00af00; text-decoration-color: #00af00\">8</span>, <span style=\"color: #00af00; text-decoration-color: #00af00\">8</span>, <span style=\"color: #00af00; text-decoration-color: #00af00\">512</span>)           │       <span style=\"color: #00af00; text-decoration-color: #00af00\">2,359,808</span> │\n",
       "├──────────────────────────────────────┼─────────────────────────────┼─────────────────┤\n",
       "│ block4_conv4 (<span style=\"color: #0087ff; text-decoration-color: #0087ff\">Conv2D</span>)                │ (<span style=\"color: #00d7ff; text-decoration-color: #00d7ff\">None</span>, <span style=\"color: #00af00; text-decoration-color: #00af00\">8</span>, <span style=\"color: #00af00; text-decoration-color: #00af00\">8</span>, <span style=\"color: #00af00; text-decoration-color: #00af00\">512</span>)           │       <span style=\"color: #00af00; text-decoration-color: #00af00\">2,359,808</span> │\n",
       "├──────────────────────────────────────┼─────────────────────────────┼─────────────────┤\n",
       "│ SE_block4 (<span style=\"color: #0087ff; text-decoration-color: #0087ff\">Squeeze_Excite</span>)           │ (<span style=\"color: #00d7ff; text-decoration-color: #00d7ff\">None</span>, <span style=\"color: #00af00; text-decoration-color: #00af00\">8</span>, <span style=\"color: #00af00; text-decoration-color: #00af00\">8</span>, <span style=\"color: #00af00; text-decoration-color: #00af00\">512</span>)           │          <span style=\"color: #00af00; text-decoration-color: #00af00\">33,312</span> │\n",
       "├──────────────────────────────────────┼─────────────────────────────┼─────────────────┤\n",
       "│ block4_pool (<span style=\"color: #0087ff; text-decoration-color: #0087ff\">MaxPooling2D</span>)           │ (<span style=\"color: #00d7ff; text-decoration-color: #00d7ff\">None</span>, <span style=\"color: #00af00; text-decoration-color: #00af00\">4</span>, <span style=\"color: #00af00; text-decoration-color: #00af00\">4</span>, <span style=\"color: #00af00; text-decoration-color: #00af00\">512</span>)           │               <span style=\"color: #00af00; text-decoration-color: #00af00\">0</span> │\n",
       "├──────────────────────────────────────┼─────────────────────────────┼─────────────────┤\n",
       "│ block5_conv1 (<span style=\"color: #0087ff; text-decoration-color: #0087ff\">Conv2D</span>)                │ (<span style=\"color: #00d7ff; text-decoration-color: #00d7ff\">None</span>, <span style=\"color: #00af00; text-decoration-color: #00af00\">4</span>, <span style=\"color: #00af00; text-decoration-color: #00af00\">4</span>, <span style=\"color: #00af00; text-decoration-color: #00af00\">512</span>)           │       <span style=\"color: #00af00; text-decoration-color: #00af00\">2,359,808</span> │\n",
       "├──────────────────────────────────────┼─────────────────────────────┼─────────────────┤\n",
       "│ block5_conv2 (<span style=\"color: #0087ff; text-decoration-color: #0087ff\">Conv2D</span>)                │ (<span style=\"color: #00d7ff; text-decoration-color: #00d7ff\">None</span>, <span style=\"color: #00af00; text-decoration-color: #00af00\">4</span>, <span style=\"color: #00af00; text-decoration-color: #00af00\">4</span>, <span style=\"color: #00af00; text-decoration-color: #00af00\">512</span>)           │       <span style=\"color: #00af00; text-decoration-color: #00af00\">2,359,808</span> │\n",
       "├──────────────────────────────────────┼─────────────────────────────┼─────────────────┤\n",
       "│ block5_conv3 (<span style=\"color: #0087ff; text-decoration-color: #0087ff\">Conv2D</span>)                │ (<span style=\"color: #00d7ff; text-decoration-color: #00d7ff\">None</span>, <span style=\"color: #00af00; text-decoration-color: #00af00\">4</span>, <span style=\"color: #00af00; text-decoration-color: #00af00\">4</span>, <span style=\"color: #00af00; text-decoration-color: #00af00\">512</span>)           │       <span style=\"color: #00af00; text-decoration-color: #00af00\">2,359,808</span> │\n",
       "├──────────────────────────────────────┼─────────────────────────────┼─────────────────┤\n",
       "│ block5_conv4 (<span style=\"color: #0087ff; text-decoration-color: #0087ff\">Conv2D</span>)                │ (<span style=\"color: #00d7ff; text-decoration-color: #00d7ff\">None</span>, <span style=\"color: #00af00; text-decoration-color: #00af00\">4</span>, <span style=\"color: #00af00; text-decoration-color: #00af00\">4</span>, <span style=\"color: #00af00; text-decoration-color: #00af00\">512</span>)           │       <span style=\"color: #00af00; text-decoration-color: #00af00\">2,359,808</span> │\n",
       "├──────────────────────────────────────┼─────────────────────────────┼─────────────────┤\n",
       "│ SE_block5 (<span style=\"color: #0087ff; text-decoration-color: #0087ff\">Squeeze_Excite</span>)           │ (<span style=\"color: #00d7ff; text-decoration-color: #00d7ff\">None</span>, <span style=\"color: #00af00; text-decoration-color: #00af00\">4</span>, <span style=\"color: #00af00; text-decoration-color: #00af00\">4</span>, <span style=\"color: #00af00; text-decoration-color: #00af00\">512</span>)           │          <span style=\"color: #00af00; text-decoration-color: #00af00\">33,312</span> │\n",
       "├──────────────────────────────────────┼─────────────────────────────┼─────────────────┤\n",
       "│ block5_pool (<span style=\"color: #0087ff; text-decoration-color: #0087ff\">MaxPooling2D</span>)           │ (<span style=\"color: #00d7ff; text-decoration-color: #00d7ff\">None</span>, <span style=\"color: #00af00; text-decoration-color: #00af00\">2</span>, <span style=\"color: #00af00; text-decoration-color: #00af00\">2</span>, <span style=\"color: #00af00; text-decoration-color: #00af00\">512</span>)           │               <span style=\"color: #00af00; text-decoration-color: #00af00\">0</span> │\n",
       "├──────────────────────────────────────┼─────────────────────────────┼─────────────────┤\n",
       "│ class_flatten (<span style=\"color: #0087ff; text-decoration-color: #0087ff\">Flatten</span>)              │ (<span style=\"color: #00d7ff; text-decoration-color: #00d7ff\">None</span>, <span style=\"color: #00af00; text-decoration-color: #00af00\">2048</span>)                │               <span style=\"color: #00af00; text-decoration-color: #00af00\">0</span> │\n",
       "├──────────────────────────────────────┼─────────────────────────────┼─────────────────┤\n",
       "│ class_dense1 (<span style=\"color: #0087ff; text-decoration-color: #0087ff\">Dense</span>)                 │ (<span style=\"color: #00d7ff; text-decoration-color: #00d7ff\">None</span>, <span style=\"color: #00af00; text-decoration-color: #00af00\">512</span>)                 │       <span style=\"color: #00af00; text-decoration-color: #00af00\">1,049,088</span> │\n",
       "├──────────────────────────────────────┼─────────────────────────────┼─────────────────┤\n",
       "│ class_dropout1 (<span style=\"color: #0087ff; text-decoration-color: #0087ff\">Dropout</span>)             │ (<span style=\"color: #00d7ff; text-decoration-color: #00d7ff\">None</span>, <span style=\"color: #00af00; text-decoration-color: #00af00\">512</span>)                 │               <span style=\"color: #00af00; text-decoration-color: #00af00\">0</span> │\n",
       "├──────────────────────────────────────┼─────────────────────────────┼─────────────────┤\n",
       "│ class_batch1 (<span style=\"color: #0087ff; text-decoration-color: #0087ff\">BatchNormalization</span>)    │ (<span style=\"color: #00d7ff; text-decoration-color: #00d7ff\">None</span>, <span style=\"color: #00af00; text-decoration-color: #00af00\">512</span>)                 │           <span style=\"color: #00af00; text-decoration-color: #00af00\">2,048</span> │\n",
       "├──────────────────────────────────────┼─────────────────────────────┼─────────────────┤\n",
       "│ class_dense2 (<span style=\"color: #0087ff; text-decoration-color: #0087ff\">Dense</span>)                 │ (<span style=\"color: #00d7ff; text-decoration-color: #00d7ff\">None</span>, <span style=\"color: #00af00; text-decoration-color: #00af00\">512</span>)                 │         <span style=\"color: #00af00; text-decoration-color: #00af00\">262,656</span> │\n",
       "├──────────────────────────────────────┼─────────────────────────────┼─────────────────┤\n",
       "│ class_dropout2 (<span style=\"color: #0087ff; text-decoration-color: #0087ff\">Dropout</span>)             │ (<span style=\"color: #00d7ff; text-decoration-color: #00d7ff\">None</span>, <span style=\"color: #00af00; text-decoration-color: #00af00\">512</span>)                 │               <span style=\"color: #00af00; text-decoration-color: #00af00\">0</span> │\n",
       "├──────────────────────────────────────┼─────────────────────────────┼─────────────────┤\n",
       "│ class_batch2 (<span style=\"color: #0087ff; text-decoration-color: #0087ff\">BatchNormalization</span>)    │ (<span style=\"color: #00d7ff; text-decoration-color: #00d7ff\">None</span>, <span style=\"color: #00af00; text-decoration-color: #00af00\">512</span>)                 │           <span style=\"color: #00af00; text-decoration-color: #00af00\">2,048</span> │\n",
       "├──────────────────────────────────────┼─────────────────────────────┼─────────────────┤\n",
       "│ class_dense3 (<span style=\"color: #0087ff; text-decoration-color: #0087ff\">Dense</span>)                 │ (<span style=\"color: #00d7ff; text-decoration-color: #00d7ff\">None</span>, <span style=\"color: #00af00; text-decoration-color: #00af00\">26</span>)                  │          <span style=\"color: #00af00; text-decoration-color: #00af00\">13,338</span> │\n",
       "└──────────────────────────────────────┴─────────────────────────────┴─────────────────┘\n",
       "</pre>\n"
      ],
      "text/plain": [
       "┏━━━━━━━━━━━━━━━━━━━━━━━━━━━━━━━━━━━━━━┳━━━━━━━━━━━━━━━━━━━━━━━━━━━━━┳━━━━━━━━━━━━━━━━━┓\n",
       "┃\u001b[1m \u001b[0m\u001b[1mLayer (type)                        \u001b[0m\u001b[1m \u001b[0m┃\u001b[1m \u001b[0m\u001b[1mOutput Shape               \u001b[0m\u001b[1m \u001b[0m┃\u001b[1m \u001b[0m\u001b[1m        Param #\u001b[0m\u001b[1m \u001b[0m┃\n",
       "┡━━━━━━━━━━━━━━━━━━━━━━━━━━━━━━━━━━━━━━╇━━━━━━━━━━━━━━━━━━━━━━━━━━━━━╇━━━━━━━━━━━━━━━━━┩\n",
       "│ block1_conv1 (\u001b[38;5;33mConv2D\u001b[0m)                │ (\u001b[38;5;45mNone\u001b[0m, \u001b[38;5;34m64\u001b[0m, \u001b[38;5;34m64\u001b[0m, \u001b[38;5;34m64\u001b[0m)          │           \u001b[38;5;34m1,792\u001b[0m │\n",
       "├──────────────────────────────────────┼─────────────────────────────┼─────────────────┤\n",
       "│ block1_conv2 (\u001b[38;5;33mConv2D\u001b[0m)                │ (\u001b[38;5;45mNone\u001b[0m, \u001b[38;5;34m64\u001b[0m, \u001b[38;5;34m64\u001b[0m, \u001b[38;5;34m64\u001b[0m)          │          \u001b[38;5;34m36,928\u001b[0m │\n",
       "├──────────────────────────────────────┼─────────────────────────────┼─────────────────┤\n",
       "│ SE_block1 (\u001b[38;5;33mSqueeze_Excite\u001b[0m)           │ (\u001b[38;5;45mNone\u001b[0m, \u001b[38;5;34m64\u001b[0m, \u001b[38;5;34m64\u001b[0m, \u001b[38;5;34m64\u001b[0m)          │             \u001b[38;5;34m580\u001b[0m │\n",
       "├──────────────────────────────────────┼─────────────────────────────┼─────────────────┤\n",
       "│ block1_pool (\u001b[38;5;33mMaxPooling2D\u001b[0m)           │ (\u001b[38;5;45mNone\u001b[0m, \u001b[38;5;34m32\u001b[0m, \u001b[38;5;34m32\u001b[0m, \u001b[38;5;34m64\u001b[0m)          │               \u001b[38;5;34m0\u001b[0m │\n",
       "├──────────────────────────────────────┼─────────────────────────────┼─────────────────┤\n",
       "│ block2_conv1 (\u001b[38;5;33mConv2D\u001b[0m)                │ (\u001b[38;5;45mNone\u001b[0m, \u001b[38;5;34m32\u001b[0m, \u001b[38;5;34m32\u001b[0m, \u001b[38;5;34m128\u001b[0m)         │          \u001b[38;5;34m73,856\u001b[0m │\n",
       "├──────────────────────────────────────┼─────────────────────────────┼─────────────────┤\n",
       "│ block2_conv2 (\u001b[38;5;33mConv2D\u001b[0m)                │ (\u001b[38;5;45mNone\u001b[0m, \u001b[38;5;34m32\u001b[0m, \u001b[38;5;34m32\u001b[0m, \u001b[38;5;34m128\u001b[0m)         │         \u001b[38;5;34m147,584\u001b[0m │\n",
       "├──────────────────────────────────────┼─────────────────────────────┼─────────────────┤\n",
       "│ SE_block2 (\u001b[38;5;33mSqueeze_Excite\u001b[0m)           │ (\u001b[38;5;45mNone\u001b[0m, \u001b[38;5;34m32\u001b[0m, \u001b[38;5;34m32\u001b[0m, \u001b[38;5;34m128\u001b[0m)         │           \u001b[38;5;34m2,184\u001b[0m │\n",
       "├──────────────────────────────────────┼─────────────────────────────┼─────────────────┤\n",
       "│ block2_pool (\u001b[38;5;33mMaxPooling2D\u001b[0m)           │ (\u001b[38;5;45mNone\u001b[0m, \u001b[38;5;34m16\u001b[0m, \u001b[38;5;34m16\u001b[0m, \u001b[38;5;34m128\u001b[0m)         │               \u001b[38;5;34m0\u001b[0m │\n",
       "├──────────────────────────────────────┼─────────────────────────────┼─────────────────┤\n",
       "│ block3_conv1 (\u001b[38;5;33mConv2D\u001b[0m)                │ (\u001b[38;5;45mNone\u001b[0m, \u001b[38;5;34m16\u001b[0m, \u001b[38;5;34m16\u001b[0m, \u001b[38;5;34m256\u001b[0m)         │         \u001b[38;5;34m295,168\u001b[0m │\n",
       "├──────────────────────────────────────┼─────────────────────────────┼─────────────────┤\n",
       "│ block3_conv2 (\u001b[38;5;33mConv2D\u001b[0m)                │ (\u001b[38;5;45mNone\u001b[0m, \u001b[38;5;34m16\u001b[0m, \u001b[38;5;34m16\u001b[0m, \u001b[38;5;34m256\u001b[0m)         │         \u001b[38;5;34m590,080\u001b[0m │\n",
       "├──────────────────────────────────────┼─────────────────────────────┼─────────────────┤\n",
       "│ block3_conv3 (\u001b[38;5;33mConv2D\u001b[0m)                │ (\u001b[38;5;45mNone\u001b[0m, \u001b[38;5;34m16\u001b[0m, \u001b[38;5;34m16\u001b[0m, \u001b[38;5;34m256\u001b[0m)         │         \u001b[38;5;34m590,080\u001b[0m │\n",
       "├──────────────────────────────────────┼─────────────────────────────┼─────────────────┤\n",
       "│ block3_conv4 (\u001b[38;5;33mConv2D\u001b[0m)                │ (\u001b[38;5;45mNone\u001b[0m, \u001b[38;5;34m16\u001b[0m, \u001b[38;5;34m16\u001b[0m, \u001b[38;5;34m256\u001b[0m)         │         \u001b[38;5;34m590,080\u001b[0m │\n",
       "├──────────────────────────────────────┼─────────────────────────────┼─────────────────┤\n",
       "│ SE_block3 (\u001b[38;5;33mSqueeze_Excite\u001b[0m)           │ (\u001b[38;5;45mNone\u001b[0m, \u001b[38;5;34m16\u001b[0m, \u001b[38;5;34m16\u001b[0m, \u001b[38;5;34m256\u001b[0m)         │           \u001b[38;5;34m8,464\u001b[0m │\n",
       "├──────────────────────────────────────┼─────────────────────────────┼─────────────────┤\n",
       "│ block3_pool (\u001b[38;5;33mMaxPooling2D\u001b[0m)           │ (\u001b[38;5;45mNone\u001b[0m, \u001b[38;5;34m8\u001b[0m, \u001b[38;5;34m8\u001b[0m, \u001b[38;5;34m256\u001b[0m)           │               \u001b[38;5;34m0\u001b[0m │\n",
       "├──────────────────────────────────────┼─────────────────────────────┼─────────────────┤\n",
       "│ block4_conv1 (\u001b[38;5;33mConv2D\u001b[0m)                │ (\u001b[38;5;45mNone\u001b[0m, \u001b[38;5;34m8\u001b[0m, \u001b[38;5;34m8\u001b[0m, \u001b[38;5;34m512\u001b[0m)           │       \u001b[38;5;34m1,180,160\u001b[0m │\n",
       "├──────────────────────────────────────┼─────────────────────────────┼─────────────────┤\n",
       "│ block4_conv2 (\u001b[38;5;33mConv2D\u001b[0m)                │ (\u001b[38;5;45mNone\u001b[0m, \u001b[38;5;34m8\u001b[0m, \u001b[38;5;34m8\u001b[0m, \u001b[38;5;34m512\u001b[0m)           │       \u001b[38;5;34m2,359,808\u001b[0m │\n",
       "├──────────────────────────────────────┼─────────────────────────────┼─────────────────┤\n",
       "│ block4_conv3 (\u001b[38;5;33mConv2D\u001b[0m)                │ (\u001b[38;5;45mNone\u001b[0m, \u001b[38;5;34m8\u001b[0m, \u001b[38;5;34m8\u001b[0m, \u001b[38;5;34m512\u001b[0m)           │       \u001b[38;5;34m2,359,808\u001b[0m │\n",
       "├──────────────────────────────────────┼─────────────────────────────┼─────────────────┤\n",
       "│ block4_conv4 (\u001b[38;5;33mConv2D\u001b[0m)                │ (\u001b[38;5;45mNone\u001b[0m, \u001b[38;5;34m8\u001b[0m, \u001b[38;5;34m8\u001b[0m, \u001b[38;5;34m512\u001b[0m)           │       \u001b[38;5;34m2,359,808\u001b[0m │\n",
       "├──────────────────────────────────────┼─────────────────────────────┼─────────────────┤\n",
       "│ SE_block4 (\u001b[38;5;33mSqueeze_Excite\u001b[0m)           │ (\u001b[38;5;45mNone\u001b[0m, \u001b[38;5;34m8\u001b[0m, \u001b[38;5;34m8\u001b[0m, \u001b[38;5;34m512\u001b[0m)           │          \u001b[38;5;34m33,312\u001b[0m │\n",
       "├──────────────────────────────────────┼─────────────────────────────┼─────────────────┤\n",
       "│ block4_pool (\u001b[38;5;33mMaxPooling2D\u001b[0m)           │ (\u001b[38;5;45mNone\u001b[0m, \u001b[38;5;34m4\u001b[0m, \u001b[38;5;34m4\u001b[0m, \u001b[38;5;34m512\u001b[0m)           │               \u001b[38;5;34m0\u001b[0m │\n",
       "├──────────────────────────────────────┼─────────────────────────────┼─────────────────┤\n",
       "│ block5_conv1 (\u001b[38;5;33mConv2D\u001b[0m)                │ (\u001b[38;5;45mNone\u001b[0m, \u001b[38;5;34m4\u001b[0m, \u001b[38;5;34m4\u001b[0m, \u001b[38;5;34m512\u001b[0m)           │       \u001b[38;5;34m2,359,808\u001b[0m │\n",
       "├──────────────────────────────────────┼─────────────────────────────┼─────────────────┤\n",
       "│ block5_conv2 (\u001b[38;5;33mConv2D\u001b[0m)                │ (\u001b[38;5;45mNone\u001b[0m, \u001b[38;5;34m4\u001b[0m, \u001b[38;5;34m4\u001b[0m, \u001b[38;5;34m512\u001b[0m)           │       \u001b[38;5;34m2,359,808\u001b[0m │\n",
       "├──────────────────────────────────────┼─────────────────────────────┼─────────────────┤\n",
       "│ block5_conv3 (\u001b[38;5;33mConv2D\u001b[0m)                │ (\u001b[38;5;45mNone\u001b[0m, \u001b[38;5;34m4\u001b[0m, \u001b[38;5;34m4\u001b[0m, \u001b[38;5;34m512\u001b[0m)           │       \u001b[38;5;34m2,359,808\u001b[0m │\n",
       "├──────────────────────────────────────┼─────────────────────────────┼─────────────────┤\n",
       "│ block5_conv4 (\u001b[38;5;33mConv2D\u001b[0m)                │ (\u001b[38;5;45mNone\u001b[0m, \u001b[38;5;34m4\u001b[0m, \u001b[38;5;34m4\u001b[0m, \u001b[38;5;34m512\u001b[0m)           │       \u001b[38;5;34m2,359,808\u001b[0m │\n",
       "├──────────────────────────────────────┼─────────────────────────────┼─────────────────┤\n",
       "│ SE_block5 (\u001b[38;5;33mSqueeze_Excite\u001b[0m)           │ (\u001b[38;5;45mNone\u001b[0m, \u001b[38;5;34m4\u001b[0m, \u001b[38;5;34m4\u001b[0m, \u001b[38;5;34m512\u001b[0m)           │          \u001b[38;5;34m33,312\u001b[0m │\n",
       "├──────────────────────────────────────┼─────────────────────────────┼─────────────────┤\n",
       "│ block5_pool (\u001b[38;5;33mMaxPooling2D\u001b[0m)           │ (\u001b[38;5;45mNone\u001b[0m, \u001b[38;5;34m2\u001b[0m, \u001b[38;5;34m2\u001b[0m, \u001b[38;5;34m512\u001b[0m)           │               \u001b[38;5;34m0\u001b[0m │\n",
       "├──────────────────────────────────────┼─────────────────────────────┼─────────────────┤\n",
       "│ class_flatten (\u001b[38;5;33mFlatten\u001b[0m)              │ (\u001b[38;5;45mNone\u001b[0m, \u001b[38;5;34m2048\u001b[0m)                │               \u001b[38;5;34m0\u001b[0m │\n",
       "├──────────────────────────────────────┼─────────────────────────────┼─────────────────┤\n",
       "│ class_dense1 (\u001b[38;5;33mDense\u001b[0m)                 │ (\u001b[38;5;45mNone\u001b[0m, \u001b[38;5;34m512\u001b[0m)                 │       \u001b[38;5;34m1,049,088\u001b[0m │\n",
       "├──────────────────────────────────────┼─────────────────────────────┼─────────────────┤\n",
       "│ class_dropout1 (\u001b[38;5;33mDropout\u001b[0m)             │ (\u001b[38;5;45mNone\u001b[0m, \u001b[38;5;34m512\u001b[0m)                 │               \u001b[38;5;34m0\u001b[0m │\n",
       "├──────────────────────────────────────┼─────────────────────────────┼─────────────────┤\n",
       "│ class_batch1 (\u001b[38;5;33mBatchNormalization\u001b[0m)    │ (\u001b[38;5;45mNone\u001b[0m, \u001b[38;5;34m512\u001b[0m)                 │           \u001b[38;5;34m2,048\u001b[0m │\n",
       "├──────────────────────────────────────┼─────────────────────────────┼─────────────────┤\n",
       "│ class_dense2 (\u001b[38;5;33mDense\u001b[0m)                 │ (\u001b[38;5;45mNone\u001b[0m, \u001b[38;5;34m512\u001b[0m)                 │         \u001b[38;5;34m262,656\u001b[0m │\n",
       "├──────────────────────────────────────┼─────────────────────────────┼─────────────────┤\n",
       "│ class_dropout2 (\u001b[38;5;33mDropout\u001b[0m)             │ (\u001b[38;5;45mNone\u001b[0m, \u001b[38;5;34m512\u001b[0m)                 │               \u001b[38;5;34m0\u001b[0m │\n",
       "├──────────────────────────────────────┼─────────────────────────────┼─────────────────┤\n",
       "│ class_batch2 (\u001b[38;5;33mBatchNormalization\u001b[0m)    │ (\u001b[38;5;45mNone\u001b[0m, \u001b[38;5;34m512\u001b[0m)                 │           \u001b[38;5;34m2,048\u001b[0m │\n",
       "├──────────────────────────────────────┼─────────────────────────────┼─────────────────┤\n",
       "│ class_dense3 (\u001b[38;5;33mDense\u001b[0m)                 │ (\u001b[38;5;45mNone\u001b[0m, \u001b[38;5;34m26\u001b[0m)                  │          \u001b[38;5;34m13,338\u001b[0m │\n",
       "└──────────────────────────────────────┴─────────────────────────────┴─────────────────┘\n"
      ]
     },
     "metadata": {},
     "output_type": "display_data"
    },
    {
     "data": {
      "text/html": [
       "<pre style=\"white-space:pre;overflow-x:auto;line-height:normal;font-family:Menlo,'DejaVu Sans Mono',consolas,'Courier New',monospace\"><span style=\"font-weight: bold\"> Total params: </span><span style=\"color: #00af00; text-decoration-color: #00af00\">21,431,414</span> (81.75 MB)\n",
       "</pre>\n"
      ],
      "text/plain": [
       "\u001b[1m Total params: \u001b[0m\u001b[38;5;34m21,431,414\u001b[0m (81.75 MB)\n"
      ]
     },
     "metadata": {},
     "output_type": "display_data"
    },
    {
     "data": {
      "text/html": [
       "<pre style=\"white-space:pre;overflow-x:auto;line-height:normal;font-family:Menlo,'DejaVu Sans Mono',consolas,'Courier New',monospace\"><span style=\"font-weight: bold\"> Trainable params: </span><span style=\"color: #00af00; text-decoration-color: #00af00\">21,429,366</span> (81.75 MB)\n",
       "</pre>\n"
      ],
      "text/plain": [
       "\u001b[1m Trainable params: \u001b[0m\u001b[38;5;34m21,429,366\u001b[0m (81.75 MB)\n"
      ]
     },
     "metadata": {},
     "output_type": "display_data"
    },
    {
     "data": {
      "text/html": [
       "<pre style=\"white-space:pre;overflow-x:auto;line-height:normal;font-family:Menlo,'DejaVu Sans Mono',consolas,'Courier New',monospace\"><span style=\"font-weight: bold\"> Non-trainable params: </span><span style=\"color: #00af00; text-decoration-color: #00af00\">2,048</span> (8.00 KB)\n",
       "</pre>\n"
      ],
      "text/plain": [
       "\u001b[1m Non-trainable params: \u001b[0m\u001b[38;5;34m2,048\u001b[0m (8.00 KB)\n"
      ]
     },
     "metadata": {},
     "output_type": "display_data"
    }
   ],
   "source": [
    "model = SE_Model()\n",
    "model.build((None, IMAGE_WIDTH, IMAGE_HEIGHT, IMAGE_CHANNELS))\n",
    "model.summary()"
   ]
  },
  {
   "cell_type": "markdown",
   "id": "4590d602-6259-4de0-b322-0ea74d6231be",
   "metadata": {},
   "source": [
    "## Loading the weights"
   ]
  },
  {
   "cell_type": "code",
   "execution_count": 7,
   "id": "aaf83803-c548-43de-87fa-96f8cc1ac8ff",
   "metadata": {},
   "outputs": [],
   "source": [
    "model.load_weights(WEIGHTS, by_name=True, skip_mismatch=True)"
   ]
  },
  {
   "cell_type": "markdown",
   "id": "b6890a7f-9b12-4f43-911b-44accd73bcab",
   "metadata": {},
   "source": [
    "## Compiling the model"
   ]
  },
  {
   "cell_type": "code",
   "execution_count": 8,
   "id": "ce6cfa51-cb9a-4d8f-9d73-958c0a86bc8e",
   "metadata": {},
   "outputs": [],
   "source": [
    "model.compile(optimizer=optimizers.RMSprop(learning_rate=LEARNINGRATE), loss='categorical_crossentropy', metrics=['accuracy'])"
   ]
  },
  {
   "cell_type": "markdown",
   "id": "c711afea-9d6b-49ea-b38a-6a7e095b6bd9",
   "metadata": {},
   "source": [
    "## Saving the clean model"
   ]
  },
  {
   "cell_type": "code",
   "execution_count": 19,
   "id": "75dc3cda-4db6-49b3-b036-c117b6bb14e2",
   "metadata": {
    "scrolled": true
   },
   "outputs": [],
   "source": [
    "save_model(model, \"CleanModels\\\\CleanSeModel.keras\", include_optimizer=True)"
   ]
  },
  {
   "cell_type": "markdown",
   "id": "b427a76e-0ad4-4eb2-bacf-0ee07b6acb72",
   "metadata": {},
   "source": [
    "## Loading the dataset"
   ]
  },
  {
   "cell_type": "code",
   "execution_count": null,
   "id": "ad5c6b4a-5c0c-43db-9cc0-7d054b2d14c6",
   "metadata": {},
   "outputs": [],
   "source": [
    "def get_labels_images(path):\n",
    "    labels = []\n",
    "    images = []\n",
    "    directories = []\n",
    "    \n",
    "    for directory in os.listdir(path):\n",
    "        for Label in os.listdir(path + '/' + directory):\n",
    "            for Image in os.listdir(path + '/' + directory + '/' + Label):\n",
    "                directories.append(directory)\n",
    "                labels.append(Label)\n",
    "                images.append(directory + '/' + Label + '/' + Image)\n",
    "                \n",
    "    return pd.DataFrame({'directories':directories, 'labels':labels, 'images':images})"
   ]
  },
  {
   "cell_type": "code",
   "execution_count": null,
   "id": "a3d772d2-9100-4085-a31f-48f4cb24cfec",
   "metadata": {},
   "outputs": [],
   "source": [
    "df = get_labels_images(dataset_dir)"
   ]
  },
  {
   "cell_type": "markdown",
   "id": "eea6b624-80fb-45bd-80e4-9f4fbf299b8b",
   "metadata": {},
   "source": [
    "## Preparing dataset for training"
   ]
  },
  {
   "cell_type": "code",
   "execution_count": null,
   "id": "32fbd6ee-2813-45e3-b872-3d95427669ec",
   "metadata": {},
   "outputs": [],
   "source": [
    "def split_data(data):\n",
    "    train_df, test_df = train_test_split(data, test_size=0.10, random_state=SEED)\n",
    "    train_df, val_df = train_test_split(train_df, test_size=0.15, random_state=SEED)\n",
    "\n",
    "    train_df = train_df.reset_index(drop=True)\n",
    "    val_df = val_df.reset_index(drop=True)\n",
    "    test_df = test_df.reset_index(drop=True)\n",
    "\n",
    "    print('----------------------------------------------------------------')\n",
    "    print(\"The Number of Samples per Split\")\n",
    "    print('----------------------------------------------------------------')\n",
    "    print('Number of   training samples : {}'.format(train_df.shape[0]))\n",
    "    print('Number of validation samples : {}'.format(val_df.shape[0]))\n",
    "    print('Number of       test samples : {}'.format(test_df.shape[0]))\n",
    "    print('----------------------------------------------------------------')\n",
    "\n",
    "    return train_df, val_df, test_df"
   ]
  },
  {
   "cell_type": "code",
   "execution_count": null,
   "id": "798195b9-b6f1-4ce5-9e3b-cbde49816203",
   "metadata": {},
   "outputs": [],
   "source": [
    "def define_image_generators(train_df, val_df, test_df):\n",
    "    train_generator = datagen.flow_from_dataframe(train_df, **data_gen_args)\n",
    "    val_generator = datagen.flow_from_dataframe(val_df, **data_gen_args)\n",
    "    test_generator = datagen.flow_from_dataframe(test_df, **data_gen_args, shuffle = False)\n",
    "    \n",
    "    return train_generator, val_generator, test_generator"
   ]
  },
  {
   "cell_type": "code",
   "execution_count": null,
   "id": "5510e321-714b-4a8f-8331-2432e2eddb2f",
   "metadata": {},
   "outputs": [],
   "source": [
    "train_df, val_df, test_df = split_data(df)"
   ]
  },
  {
   "cell_type": "code",
   "execution_count": null,
   "id": "ff9f01c9-9068-4592-8e83-dee1143cad8f",
   "metadata": {},
   "outputs": [],
   "source": [
    "train_generator, val_generator, test_generator = define_image_generators(train_df, val_df, test_df)"
   ]
  },
  {
   "cell_type": "markdown",
   "id": "3f4d2f4d-4f74-491d-b28c-8b88ff01660a",
   "metadata": {},
   "source": [
    "## Lodaing model from the checkpoints"
   ]
  },
  {
   "cell_type": "code",
   "execution_count": null,
   "id": "f713c1d0-bc6b-4005-9751-465cc775322d",
   "metadata": {},
   "outputs": [],
   "source": [
    "# Loading the latest checkpoint\n",
    "latest_checkpoint = max(glob.glob(os.path.join(checkpoints_dir, \"cp-*\")), key=os.path.getmtime)\n",
    "start_epoch = int(re.search(r\"cp-(\\d+)\", latest_checkpoint).group(1))\n",
    "\n",
    "# Loading full model from checkpoints\n",
    "model = tf.keras.models.load_model(latest_checkpoint)"
   ]
  },
  {
   "cell_type": "markdown",
   "id": "ef0f192c-b476-4d45-aea3-e88415ecaa73",
   "metadata": {},
   "source": [
    "## Training model"
   ]
  },
  {
   "cell_type": "code",
   "execution_count": null,
   "id": "300428a7-374e-4b36-95d1-7d06d3d9fea1",
   "metadata": {},
   "outputs": [],
   "source": [
    "checkpoints = tf.keras.callbacks.ModelCheckpoint(\n",
    "    filepath=checkpoints_path,\n",
    "    verbose=1,\n",
    "    save_weights_only=False,\n",
    "    save_freq=\"epoch\"\n",
    ")\n",
    "\n",
    "callback_list = [early_stop, checkpoints, learningrate_reduction]"
   ]
  },
  {
   "cell_type": "code",
   "execution_count": null,
   "id": "7a91d6eb-5fe1-4f2c-8d0b-e82143d5352a",
   "metadata": {},
   "outputs": [],
   "source": [
    "history = model.fit(train_generator,\n",
    "                    epochs = EPOCHS,\n",
    "                    initial_epoch=start_epoch,\n",
    "                    validation_data = val_generator,\n",
    "                    callbacks = callback_list)"
   ]
  },
  {
   "cell_type": "markdown",
   "id": "daadbfa5-56f8-4b37-a758-bdf47c91048b",
   "metadata": {},
   "source": [
    "## Saving trained model and statistics"
   ]
  },
  {
   "cell_type": "code",
   "execution_count": null,
   "id": "a82094d7-2c1a-4b37-bb91-ffad66985983",
   "metadata": {},
   "outputs": [],
   "source": [
    "save_model(model, \"TrainedModels\\\\TrainedSeModel.keras\", include_optimizer=True)"
   ]
  },
  {
   "cell_type": "code",
   "execution_count": null,
   "id": "480f43ca-3cab-47ba-9dfd-f5b342e82d77",
   "metadata": {},
   "outputs": [],
   "source": [
    "with open('..\\\\Statistics\\\\TrainingStatistics\\\\SeTraining.pkl', 'wb') as file:\n",
    "    pickle.dump(history.history, file)"
   ]
  }
 ],
 "metadata": {
  "kernelspec": {
   "display_name": "VisualAttentionAsExplanation",
   "language": "python",
   "name": "visualattentionasexplanation"
  },
  "language_info": {
   "codemirror_mode": {
    "name": "ipython",
    "version": 3
   },
   "file_extension": ".py",
   "mimetype": "text/x-python",
   "name": "python",
   "nbconvert_exporter": "python",
   "pygments_lexer": "ipython3",
   "version": "3.13.6"
  }
 },
 "nbformat": 4,
 "nbformat_minor": 5
}
