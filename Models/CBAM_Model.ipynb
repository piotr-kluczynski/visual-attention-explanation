{
 "cells": [
  {
   "cell_type": "markdown",
   "id": "a7970bbd-a620-415c-88d9-55d0ced83be3",
   "metadata": {},
   "source": [
    "## Importing libraries"
   ]
  },
  {
   "cell_type": "code",
   "execution_count": 1,
   "id": "30442c7c-2acf-46f7-8a4f-5b7ff4047c5e",
   "metadata": {},
   "outputs": [],
   "source": [
    "import keras\n",
    "import os\n",
    "import pickle\n",
    "import tensorflow as tf\n",
    "import pandas as pd\n",
    "\n",
    "from keras import callbacks\n",
    "from keras.saving import save_model\n",
    "from tensorflow.keras import layers\n",
    "from tensorflow.keras import optimizers\n",
    "from sklearn.model_selection import train_test_split\n",
    "from tensorflow.keras.preprocessing.image import ImageDataGenerator\n",
    "from keras.layers import Dense, Conv2D, MaxPooling2D, Flatten, Dropout, BatchNormalization, Reshape, GlobalAveragePooling2D, GlobalMaxPooling2D, Multiply, Concatenate"
   ]
  },
  {
   "cell_type": "markdown",
   "id": "1ae499fe-3212-41e6-8a3b-4c953cc94bf8",
   "metadata": {},
   "source": [
    "## Setting up meta parameters"
   ]
  },
  {
   "cell_type": "code",
   "execution_count": 2,
   "id": "c55c7ced-c3a5-4a3f-a60d-9e67f9a368dc",
   "metadata": {},
   "outputs": [],
   "source": [
    "IMAGE_WIDTH = 64\n",
    "IMAGE_HEIGHT = 64\n",
    "IMAGE_SIZE=(IMAGE_WIDTH, IMAGE_HEIGHT)\n",
    "BATCH_SIZE = 128\n",
    "SEED = 99\n",
    "EPOCHS = 10\n",
    "LABEL_CLASS = 26\n",
    "IMAGE_CHANNELS= 3\n",
    "LEARNINGRATE = 1e-5\n",
    "WEIGHTS = \"vgg19_weights_tf_dim_ordering_tf_kernels_notop.h5\"\n",
    "\n",
    "start_epoch = 0\n",
    "dataset_dir = os.path.abspath(\"..\\\\Datasets\\\\TrainingDatasets\")\n",
    "checkpoints_dir = os.path.abspath(\"TrainingCheckpoints\\\\CBAM\")\n",
    "checkpoints_path = os.path.join(checkpoints_dir, \"cp-{epoch:04d}.keras\")\n",
    "datagen = ImageDataGenerator(rescale=1.0/255)\n",
    "data_gen_args = dict(directory=dataset_dir, x_col='images', y_col='labels', target_size=IMAGE_SIZE, class_mode='categorical', batch_size=BATCH_SIZE, seed = SEED)\n",
    "early_stop = callbacks.EarlyStopping(monitor='val_loss', patience = 5, verbose = 1, restore_best_weights=True)\n",
    "learningrate_reduction = callbacks.ReduceLROnPlateau(monitor='val_loss', patience= 2, verbose= 1)"
   ]
  },
  {
   "cell_type": "markdown",
   "id": "2cfd48ba-11d7-4d56-b9d8-a35068a83f95",
   "metadata": {},
   "source": [
    "## Attention definition"
   ]
  },
  {
   "cell_type": "code",
   "execution_count": 3,
   "id": "d5215c76-2dc2-4ff3-9887-d1d9c88e02c4",
   "metadata": {},
   "outputs": [],
   "source": [
    "class Channel_Attention(layers.Layer):\n",
    "    def __init__(self, channels, reduction, cbam_id):\n",
    "        super().__init__(name=f\"cbam{cbam_id}_channel\")\n",
    "\n",
    "        # Property for saving last attention map\n",
    "        self.channel_attention_map = None\n",
    "\n",
    "        self.avg_pool = GlobalAveragePooling2D(name=f\"cbam{cbam_id}_channel_global_avg_pool\")\n",
    "        self.max_pool = GlobalMaxPooling2D(name=f\"cbam{cbam_id}_channel_global_max_pool\")\n",
    "\n",
    "        self.dense1 = Dense(channels // reduction, activation='relu', name=f\"cbam{cbam_id}_channel_dense1\")\n",
    "        self.dense2 = Dense(channels, activation=None, name=f\"cbam{cbam_id}_channel_dense2\")\n",
    "\n",
    "        self.reshape = Reshape((1, 1, channels), name=f\"cbam{cbam_id}_channel_reshape\")\n",
    "        self.multiply = Multiply(name=f\"cbam{cbam_id}_channel_multiply\")\n",
    "\n",
    "    def build(self, input_shape):\n",
    "        x_shape = input_shape\n",
    "        \n",
    "        self.avg_pool.build(input_shape)\n",
    "        self.avg_pool.build(input_shape)\n",
    "        x_shape = self.avg_pool.compute_output_shape(input_shape)\n",
    "\n",
    "        self.dense1.build(x_shape)\n",
    "        x_shape = self.dense1.compute_output_shape(x_shape)\n",
    "\n",
    "        self.dense2.build(x_shape)\n",
    "        x_shape = self.dense2.compute_output_shape(x_shape)\n",
    "    \n",
    "    def compute_output_shape(self, input_shape):\n",
    "        return input_shape\n",
    "\n",
    "    def call(self, input, save_attention=False):\n",
    "        x = input\n",
    "\n",
    "        avg_pool = self.avg_pool(x)\n",
    "        avg_pool = self.dense1(avg_pool)\n",
    "        avg_pool = self.dense2(avg_pool)\n",
    "        \n",
    "        max_pool = self.max_pool(x)\n",
    "        max_pool = self.dense1(max_pool)\n",
    "        max_pool = self.dense2(max_pool)\n",
    "\n",
    "        x = avg_pool + max_pool\n",
    "        x = tf.nn.sigmoid(x)\n",
    "        x = self.reshape(x)\n",
    "\n",
    "        if save_attention:\n",
    "            self.channel_attention_map = x\n",
    "\n",
    "        return self.multiply([input, x])"
   ]
  },
  {
   "cell_type": "code",
   "execution_count": 4,
   "id": "45588fd3-046e-42d1-9bdd-06a5294e7499",
   "metadata": {},
   "outputs": [],
   "source": [
    "class Spatial_Attention(layers.Layer):\n",
    "    def __init__(self, kernel_size, cbam_id):\n",
    "        super().__init__(name=f\"cbam{cbam_id}_spatial\")\n",
    "\n",
    "        # Property for saving last attention map\n",
    "        self.spatial_attention_map = None\n",
    "\n",
    "        self.conv = Conv2D(1, kernel_size, strides=1, padding='same', activation='sigmoid', name=f\"cbam{cbam_id}_spatial_conv\")\n",
    "        \n",
    "        self.concat = Concatenate(axis=-1, name=f\"cbam{cbam_id}_spatial_concatenate\")\n",
    "        self.multiply = Multiply(name=f\"cbam{cbam_id}_spatial_multiply\")\n",
    "\n",
    "        self.attention = None # Value of spatial attention weights after last call()\n",
    "\n",
    "    def build(self, input_shape):\n",
    "        x_shape = (input_shape[0], input_shape[1], input_shape[2], 2)\n",
    "        self.conv.build(x_shape)\n",
    "\n",
    "\n",
    "    def compute_output_shape(self, input_shape):\n",
    "        return input_shape\n",
    "\n",
    "    def call(self, input, save_attention=False):\n",
    "        x = input\n",
    "\n",
    "        avg_pool = tf.reduce_mean(x, axis=-1, keepdims=True)\n",
    "        max_pool = tf.reduce_max(x, axis=-1, keepdims=True)\n",
    "\n",
    "        x = self.concat([avg_pool, max_pool])\n",
    "\n",
    "        x = self.conv(x)\n",
    "\n",
    "        if save_attention:\n",
    "            self.spatial_attention_map = x\n",
    "        \n",
    "        return self.multiply([input, x])"
   ]
  },
  {
   "cell_type": "code",
   "execution_count": 5,
   "id": "19824ac2-e700-4810-a086-413579cfdbd8",
   "metadata": {},
   "outputs": [],
   "source": [
    "class CBAM(layers.Layer):\n",
    "    def __init__(self, channels, cbam_id, reduction=8, kernel_size=7):\n",
    "        super().__init__(name=f\"CBAM_{cbam_id}\")\n",
    "\n",
    "        self.channel = Channel_Attention(channels, reduction, cbam_id=cbam_id)\n",
    "        self.spatial = Spatial_Attention(kernel_size, cbam_id=cbam_id)\n",
    "\n",
    "    def build(self, input_shape):\n",
    "        self.channel.build(input_shape)\n",
    "        self.spatial.build(input_shape)\n",
    "\n",
    "    def compute_output_shape(self, input_shape):\n",
    "        return input_shape\n",
    "\n",
    "    def call(self, input, save_attention=False):\n",
    "        x = input\n",
    "\n",
    "        x = self.channel(x, save_attention=save_attention)\n",
    "        x = self.spatial(x, save_attention=save_attention)\n",
    "\n",
    "        return x"
   ]
  },
  {
   "cell_type": "markdown",
   "id": "5561ea83-e12b-40e8-81cd-03415ff566f0",
   "metadata": {},
   "source": [
    "## Model definition"
   ]
  },
  {
   "cell_type": "code",
   "execution_count": 6,
   "id": "f5cb703b-56cc-4c42-b152-c16b705d0029",
   "metadata": {},
   "outputs": [],
   "source": [
    "@keras.saving.register_keras_serializable(package=\"Custom\")\n",
    "class CBAM_Model(keras.Model):\n",
    "    def __init__(self, name=\"CbamModel\", **kwargs):\n",
    "        super().__init__(**kwargs)\n",
    "        self.name = name\n",
    "        \n",
    "        # VGG19\n",
    "        # Block 1\n",
    "        self.vgg19_block1_conv1 = Conv2D(64, (3, 3), activation=\"relu\", padding=\"same\", name=\"block1_conv1\")\n",
    "        self.vgg19_block1_conv2 = Conv2D(64, (3, 3), activation=\"relu\", padding=\"same\", name=\"block1_conv2\")\n",
    "        self.vgg19_block1_attention = CBAM(64, cbam_id='block1')\n",
    "        self.vgg19_block1_pool = MaxPooling2D((2, 2), strides=(2, 2), name=\"block1_pool\")\n",
    "\n",
    "        # Block 2\n",
    "        self.vgg19_block2_conv1 = Conv2D(128, (3, 3), activation=\"relu\", padding=\"same\", name=\"block2_conv1\")\n",
    "        self.vgg19_block2_conv2 = Conv2D(128, (3, 3), activation=\"relu\", padding=\"same\", name=\"block2_conv2\")\n",
    "        self.vgg19_block2_attention = CBAM(128, cbam_id='block2')\n",
    "        self.vgg19_block2_pool = MaxPooling2D((2, 2), strides=(2, 2), name=\"block2_pool\")\n",
    "\n",
    "        # Block 3\n",
    "        self.vgg19_block3_conv1 = Conv2D(256, (3, 3), activation=\"relu\", padding=\"same\", name=\"block3_conv1\")\n",
    "        self.vgg19_block3_conv2 = Conv2D(256, (3, 3), activation=\"relu\", padding=\"same\", name=\"block3_conv2\")\n",
    "        self.vgg19_block3_conv3 = Conv2D(256, (3, 3), activation=\"relu\", padding=\"same\", name=\"block3_conv3\")\n",
    "        self.vgg19_block3_conv4 = Conv2D(256, (3, 3), activation=\"relu\", padding=\"same\", name=\"block3_conv4\")\n",
    "        self.vgg19_block3_attention = CBAM(256, cbam_id='block3')\n",
    "        self.vgg19_block3_pool = MaxPooling2D((2, 2), strides=(2, 2), name=\"block3_pool\")\n",
    "        \n",
    "        # Block 4\n",
    "        self.vgg19_block4_conv1 = Conv2D(512, (3, 3), activation=\"relu\", padding=\"same\", name=\"block4_conv1\")\n",
    "        self.vgg19_block4_conv2 = Conv2D(512, (3, 3), activation=\"relu\", padding=\"same\", name=\"block4_conv2\")\n",
    "        self.vgg19_block4_conv3 = Conv2D(512, (3, 3), activation=\"relu\", padding=\"same\", name=\"block4_conv3\")\n",
    "        self.vgg19_block4_conv4 = Conv2D(512, (3, 3), activation=\"relu\", padding=\"same\", name=\"block4_conv4\")\n",
    "        self.vgg19_block4_attention = CBAM(512, cbam_id='block4')\n",
    "        self.vgg19_block4_pool = MaxPooling2D((2, 2), strides=(2, 2), name=\"block4_pool\")\n",
    "\n",
    "        # Block 5\n",
    "        self.vgg19_block5_conv1 = Conv2D(512, (3, 3), activation=\"relu\", padding=\"same\", name=\"block5_conv1\")\n",
    "        self.vgg19_block5_conv2 = Conv2D(512, (3, 3), activation=\"relu\", padding=\"same\", name=\"block5_conv2\")\n",
    "        self.vgg19_block5_conv3 = Conv2D(512, (3, 3), activation=\"relu\", padding=\"same\", name=\"block5_conv3\")\n",
    "        self.vgg19_block5_conv4 = Conv2D(512, (3, 3), activation=\"relu\", padding=\"same\", name=\"block5_conv4\")\n",
    "        self.vgg19_block5_attention = CBAM(512, cbam_id='block5')\n",
    "        self.vgg19_block5_pool = MaxPooling2D((2, 2), strides=(2, 2), name=\"block5_pool\")\n",
    "\n",
    "        # Classifier layer\n",
    "        self.class_flatten = Flatten(name=\"class_flatten\")\n",
    "        \n",
    "        self.class_dense1 = Dense(512, activation = 'relu', name=\"class_dense1\")\n",
    "        self.class_dropout1 = Dropout(0.4, name=\"class_dropout1\")\n",
    "        self.class_batch1 = BatchNormalization(name=\"class_batch1\")\n",
    "        \n",
    "        self.class_dense2 = Dense(512, activation = 'relu', name=\"class_dense2\")\n",
    "        self.class_dropout2 = Dropout(0.3, name=\"class_dropout2\")\n",
    "        self.class_batch2 = BatchNormalization(name=\"class_batch2\")\n",
    "\n",
    "        self.class_dense3 = Dense(LABEL_CLASS, activation = 'softmax', name=\"class_dense3\")\n",
    "\n",
    "    def call(self, inputs, save_attention=False, training=False):\n",
    "        # VGG19\n",
    "        # Block 1\n",
    "        x = self.vgg19_block1_conv1(inputs)\n",
    "        x = self.vgg19_block1_conv2(x)\n",
    "        x = self.vgg19_block1_attention(x, save_attention=save_attention)\n",
    "        x = self.vgg19_block1_pool(x)\n",
    "\n",
    "        # Block 2\n",
    "        x = self.vgg19_block2_conv1(x)\n",
    "        x = self.vgg19_block2_conv2(x)\n",
    "        x = self.vgg19_block2_attention(x, save_attention=save_attention)\n",
    "        x = self.vgg19_block2_pool(x)\n",
    "\n",
    "        # Block 3\n",
    "        x = self.vgg19_block3_conv1(x)\n",
    "        x = self.vgg19_block3_conv2(x)\n",
    "        x = self.vgg19_block3_conv3(x)\n",
    "        x = self.vgg19_block3_conv4(x)\n",
    "        x = self.vgg19_block3_attention(x, save_attention=save_attention)\n",
    "        x = self.vgg19_block3_pool(x)\n",
    "\n",
    "        # Block 4\n",
    "        x = self.vgg19_block4_conv1(x)\n",
    "        x = self.vgg19_block4_conv2(x)\n",
    "        x = self.vgg19_block4_conv3(x)\n",
    "        x = self.vgg19_block4_conv4(x)\n",
    "        x = self.vgg19_block4_attention(x, save_attention=save_attention)\n",
    "        x = self.vgg19_block4_pool(x)\n",
    "\n",
    "        # Block 5\n",
    "        x = self.vgg19_block5_conv1(x)\n",
    "        x = self.vgg19_block5_conv2(x)\n",
    "        x = self.vgg19_block5_conv3(x)\n",
    "        x = self.vgg19_block5_conv4(x)\n",
    "        x = self.vgg19_block5_attention(x, save_attention=save_attention)\n",
    "        x = self.vgg19_block5_pool(x)\n",
    "\n",
    "        # Classifier layer\n",
    "        x = self.class_flatten(x)\n",
    "\n",
    "        x = self.class_dense1(x)\n",
    "        x = self.class_dropout1(x, training=training)\n",
    "        x = self.class_batch1(x, training=training)\n",
    "\n",
    "        x = self.class_dense2(x)\n",
    "        x = self.class_dropout2(x, training=training)\n",
    "        x = self.class_batch2(x, training=training)\n",
    "\n",
    "        x = self.class_dense3(x)\n",
    "\n",
    "        return x\n",
    "\n",
    "    def build(self, input_shape):\n",
    "        # VGG19\n",
    "        # Block 1\n",
    "        self.vgg19_block1_conv1.build(input_shape)\n",
    "        x_shape = self.vgg19_block1_conv1.compute_output_shape(input_shape)\n",
    "        self.vgg19_block1_conv2.build(x_shape)\n",
    "        x_shape = self.vgg19_block1_conv2.compute_output_shape(x_shape)\n",
    "        self.vgg19_block1_attention.build(x_shape)\n",
    "        x_shape = self.vgg19_block1_attention.compute_output_shape(x_shape)\n",
    "        self.vgg19_block1_pool.build(x_shape)\n",
    "        x_shape = self.vgg19_block1_pool.compute_output_shape(x_shape)\n",
    "\n",
    "        # Block 2\n",
    "        self.vgg19_block2_conv1.build(x_shape)\n",
    "        x_shape = self.vgg19_block2_conv1.compute_output_shape(x_shape)\n",
    "        self.vgg19_block2_conv2.build(x_shape)\n",
    "        x_shape = self.vgg19_block2_conv2.compute_output_shape(x_shape)\n",
    "        self.vgg19_block2_attention.build(x_shape)\n",
    "        x_shape = self.vgg19_block2_attention.compute_output_shape(x_shape)\n",
    "        self.vgg19_block2_pool.build(x_shape)\n",
    "        x_shape = self.vgg19_block2_pool.compute_output_shape(x_shape)\n",
    "\n",
    "        # Block 3\n",
    "        self.vgg19_block3_conv1.build(x_shape)\n",
    "        x_shape = self.vgg19_block3_conv1.compute_output_shape(x_shape)\n",
    "        self.vgg19_block3_conv2.build(x_shape)\n",
    "        x_shape = self.vgg19_block3_conv2.compute_output_shape(x_shape)\n",
    "        self.vgg19_block3_conv3.build(x_shape)\n",
    "        x_shape = self.vgg19_block3_conv3.compute_output_shape(x_shape)\n",
    "        self.vgg19_block3_conv4.build(x_shape)\n",
    "        x_shape = self.vgg19_block3_conv4.compute_output_shape(x_shape)\n",
    "        self.vgg19_block3_attention.build(x_shape)\n",
    "        x_shape = self.vgg19_block3_attention.compute_output_shape(x_shape)\n",
    "        self.vgg19_block3_pool.build(x_shape)\n",
    "        x_shape = self.vgg19_block3_pool.compute_output_shape(x_shape)\n",
    "\n",
    "        # Block 4\n",
    "        self.vgg19_block4_conv1.build(x_shape)\n",
    "        x_shape = self.vgg19_block4_conv1.compute_output_shape(x_shape)\n",
    "        self.vgg19_block4_conv2.build(x_shape)\n",
    "        x_shape = self.vgg19_block4_conv2.compute_output_shape(x_shape)\n",
    "        self.vgg19_block4_conv3.build(x_shape)\n",
    "        x_shape = self.vgg19_block4_conv3.compute_output_shape(x_shape)\n",
    "        self.vgg19_block4_conv4.build(x_shape)\n",
    "        x_shape = self.vgg19_block4_conv4.compute_output_shape(x_shape)\n",
    "        self.vgg19_block4_attention.build(x_shape)\n",
    "        x_shape = self.vgg19_block4_attention.compute_output_shape(x_shape)\n",
    "        self.vgg19_block4_pool.build(x_shape)\n",
    "        x_shape = self.vgg19_block4_pool.compute_output_shape(x_shape)\n",
    "\n",
    "        # Block 5\n",
    "        self.vgg19_block5_conv1.build(x_shape)\n",
    "        x_shape = self.vgg19_block5_conv1.compute_output_shape(x_shape)\n",
    "        self.vgg19_block5_conv2.build(x_shape)\n",
    "        x_shape = self.vgg19_block5_conv2.compute_output_shape(x_shape)\n",
    "        self.vgg19_block5_conv3.build(x_shape)\n",
    "        x_shape = self.vgg19_block5_conv3.compute_output_shape(x_shape)\n",
    "        self.vgg19_block5_conv4.build(x_shape)\n",
    "        x_shape = self.vgg19_block5_conv4.compute_output_shape(x_shape)\n",
    "        self.vgg19_block5_attention.build(x_shape)\n",
    "        x_shape = self.vgg19_block5_attention.compute_output_shape(x_shape)\n",
    "        self.vgg19_block5_pool.build(x_shape)\n",
    "        x_shape = self.vgg19_block5_pool.compute_output_shape(x_shape)\n",
    "\n",
    "        # Classifier layer\n",
    "        self.class_flatten.build(x_shape)\n",
    "        x_shape = self.class_flatten.compute_output_shape(x_shape)\n",
    "        self.class_dense1.build(x_shape)\n",
    "        x_shape = self.class_dense1.compute_output_shape(x_shape)\n",
    "        self.class_dropout1.build(x_shape)\n",
    "        x_shape = self.class_dropout1.compute_output_shape(x_shape)\n",
    "        self.class_batch1.build(x_shape)\n",
    "        x_shape = self.class_batch1.compute_output_shape(x_shape)\n",
    "        \n",
    "        self.class_dense2.build(x_shape)\n",
    "        x_shape = self.class_dense2.compute_output_shape(x_shape)\n",
    "        self.class_dropout2.build(x_shape)\n",
    "        x_shape = self.class_dropout2.compute_output_shape(x_shape)\n",
    "        self.class_batch2.build(x_shape)\n",
    "        x_shape = self.class_batch2.compute_output_shape(x_shape)\n",
    "\n",
    "        self.class_dense3.build(x_shape)"
   ]
  },
  {
   "cell_type": "markdown",
   "id": "61d50355-73da-470b-a303-96179d013df7",
   "metadata": {},
   "source": [
    "## Building the model"
   ]
  },
  {
   "cell_type": "code",
   "execution_count": 7,
   "id": "c9ca9a21-345c-4a8b-afc0-26884a315436",
   "metadata": {
    "scrolled": true
   },
   "outputs": [
    {
     "data": {
      "text/html": [
       "<pre style=\"white-space:pre;overflow-x:auto;line-height:normal;font-family:Menlo,'DejaVu Sans Mono',consolas,'Courier New',monospace\"><span style=\"font-weight: bold\">Model: \"CbamModel\"</span>\n",
       "</pre>\n"
      ],
      "text/plain": [
       "\u001b[1mModel: \"CbamModel\"\u001b[0m\n"
      ]
     },
     "metadata": {},
     "output_type": "display_data"
    },
    {
     "data": {
      "text/html": [
       "<pre style=\"white-space:pre;overflow-x:auto;line-height:normal;font-family:Menlo,'DejaVu Sans Mono',consolas,'Courier New',monospace\">┏━━━━━━━━━━━━━━━━━━━━━━━━━━━━━━━━━━━━━━┳━━━━━━━━━━━━━━━━━━━━━━━━━━━━━┳━━━━━━━━━━━━━━━━━┓\n",
       "┃<span style=\"font-weight: bold\"> Layer (type)                         </span>┃<span style=\"font-weight: bold\"> Output Shape                </span>┃<span style=\"font-weight: bold\">         Param # </span>┃\n",
       "┡━━━━━━━━━━━━━━━━━━━━━━━━━━━━━━━━━━━━━━╇━━━━━━━━━━━━━━━━━━━━━━━━━━━━━╇━━━━━━━━━━━━━━━━━┩\n",
       "│ block1_conv1 (<span style=\"color: #0087ff; text-decoration-color: #0087ff\">Conv2D</span>)                │ (<span style=\"color: #00d7ff; text-decoration-color: #00d7ff\">None</span>, <span style=\"color: #00af00; text-decoration-color: #00af00\">64</span>, <span style=\"color: #00af00; text-decoration-color: #00af00\">64</span>, <span style=\"color: #00af00; text-decoration-color: #00af00\">64</span>)          │           <span style=\"color: #00af00; text-decoration-color: #00af00\">1,792</span> │\n",
       "├──────────────────────────────────────┼─────────────────────────────┼─────────────────┤\n",
       "│ block1_conv2 (<span style=\"color: #0087ff; text-decoration-color: #0087ff\">Conv2D</span>)                │ (<span style=\"color: #00d7ff; text-decoration-color: #00d7ff\">None</span>, <span style=\"color: #00af00; text-decoration-color: #00af00\">64</span>, <span style=\"color: #00af00; text-decoration-color: #00af00\">64</span>, <span style=\"color: #00af00; text-decoration-color: #00af00\">64</span>)          │          <span style=\"color: #00af00; text-decoration-color: #00af00\">36,928</span> │\n",
       "├──────────────────────────────────────┼─────────────────────────────┼─────────────────┤\n",
       "│ CBAM_block1 (<span style=\"color: #0087ff; text-decoration-color: #0087ff\">CBAM</span>)                   │ (<span style=\"color: #00d7ff; text-decoration-color: #00d7ff\">None</span>, <span style=\"color: #00af00; text-decoration-color: #00af00\">64</span>, <span style=\"color: #00af00; text-decoration-color: #00af00\">64</span>, <span style=\"color: #00af00; text-decoration-color: #00af00\">64</span>)          │           <span style=\"color: #00af00; text-decoration-color: #00af00\">1,195</span> │\n",
       "├──────────────────────────────────────┼─────────────────────────────┼─────────────────┤\n",
       "│ block1_pool (<span style=\"color: #0087ff; text-decoration-color: #0087ff\">MaxPooling2D</span>)           │ (<span style=\"color: #00d7ff; text-decoration-color: #00d7ff\">None</span>, <span style=\"color: #00af00; text-decoration-color: #00af00\">32</span>, <span style=\"color: #00af00; text-decoration-color: #00af00\">32</span>, <span style=\"color: #00af00; text-decoration-color: #00af00\">64</span>)          │               <span style=\"color: #00af00; text-decoration-color: #00af00\">0</span> │\n",
       "├──────────────────────────────────────┼─────────────────────────────┼─────────────────┤\n",
       "│ block2_conv1 (<span style=\"color: #0087ff; text-decoration-color: #0087ff\">Conv2D</span>)                │ (<span style=\"color: #00d7ff; text-decoration-color: #00d7ff\">None</span>, <span style=\"color: #00af00; text-decoration-color: #00af00\">32</span>, <span style=\"color: #00af00; text-decoration-color: #00af00\">32</span>, <span style=\"color: #00af00; text-decoration-color: #00af00\">128</span>)         │          <span style=\"color: #00af00; text-decoration-color: #00af00\">73,856</span> │\n",
       "├──────────────────────────────────────┼─────────────────────────────┼─────────────────┤\n",
       "│ block2_conv2 (<span style=\"color: #0087ff; text-decoration-color: #0087ff\">Conv2D</span>)                │ (<span style=\"color: #00d7ff; text-decoration-color: #00d7ff\">None</span>, <span style=\"color: #00af00; text-decoration-color: #00af00\">32</span>, <span style=\"color: #00af00; text-decoration-color: #00af00\">32</span>, <span style=\"color: #00af00; text-decoration-color: #00af00\">128</span>)         │         <span style=\"color: #00af00; text-decoration-color: #00af00\">147,584</span> │\n",
       "├──────────────────────────────────────┼─────────────────────────────┼─────────────────┤\n",
       "│ CBAM_block2 (<span style=\"color: #0087ff; text-decoration-color: #0087ff\">CBAM</span>)                   │ (<span style=\"color: #00d7ff; text-decoration-color: #00d7ff\">None</span>, <span style=\"color: #00af00; text-decoration-color: #00af00\">32</span>, <span style=\"color: #00af00; text-decoration-color: #00af00\">32</span>, <span style=\"color: #00af00; text-decoration-color: #00af00\">128</span>)         │           <span style=\"color: #00af00; text-decoration-color: #00af00\">4,339</span> │\n",
       "├──────────────────────────────────────┼─────────────────────────────┼─────────────────┤\n",
       "│ block2_pool (<span style=\"color: #0087ff; text-decoration-color: #0087ff\">MaxPooling2D</span>)           │ (<span style=\"color: #00d7ff; text-decoration-color: #00d7ff\">None</span>, <span style=\"color: #00af00; text-decoration-color: #00af00\">16</span>, <span style=\"color: #00af00; text-decoration-color: #00af00\">16</span>, <span style=\"color: #00af00; text-decoration-color: #00af00\">128</span>)         │               <span style=\"color: #00af00; text-decoration-color: #00af00\">0</span> │\n",
       "├──────────────────────────────────────┼─────────────────────────────┼─────────────────┤\n",
       "│ block3_conv1 (<span style=\"color: #0087ff; text-decoration-color: #0087ff\">Conv2D</span>)                │ (<span style=\"color: #00d7ff; text-decoration-color: #00d7ff\">None</span>, <span style=\"color: #00af00; text-decoration-color: #00af00\">16</span>, <span style=\"color: #00af00; text-decoration-color: #00af00\">16</span>, <span style=\"color: #00af00; text-decoration-color: #00af00\">256</span>)         │         <span style=\"color: #00af00; text-decoration-color: #00af00\">295,168</span> │\n",
       "├──────────────────────────────────────┼─────────────────────────────┼─────────────────┤\n",
       "│ block3_conv2 (<span style=\"color: #0087ff; text-decoration-color: #0087ff\">Conv2D</span>)                │ (<span style=\"color: #00d7ff; text-decoration-color: #00d7ff\">None</span>, <span style=\"color: #00af00; text-decoration-color: #00af00\">16</span>, <span style=\"color: #00af00; text-decoration-color: #00af00\">16</span>, <span style=\"color: #00af00; text-decoration-color: #00af00\">256</span>)         │         <span style=\"color: #00af00; text-decoration-color: #00af00\">590,080</span> │\n",
       "├──────────────────────────────────────┼─────────────────────────────┼─────────────────┤\n",
       "│ block3_conv3 (<span style=\"color: #0087ff; text-decoration-color: #0087ff\">Conv2D</span>)                │ (<span style=\"color: #00d7ff; text-decoration-color: #00d7ff\">None</span>, <span style=\"color: #00af00; text-decoration-color: #00af00\">16</span>, <span style=\"color: #00af00; text-decoration-color: #00af00\">16</span>, <span style=\"color: #00af00; text-decoration-color: #00af00\">256</span>)         │         <span style=\"color: #00af00; text-decoration-color: #00af00\">590,080</span> │\n",
       "├──────────────────────────────────────┼─────────────────────────────┼─────────────────┤\n",
       "│ block3_conv4 (<span style=\"color: #0087ff; text-decoration-color: #0087ff\">Conv2D</span>)                │ (<span style=\"color: #00d7ff; text-decoration-color: #00d7ff\">None</span>, <span style=\"color: #00af00; text-decoration-color: #00af00\">16</span>, <span style=\"color: #00af00; text-decoration-color: #00af00\">16</span>, <span style=\"color: #00af00; text-decoration-color: #00af00\">256</span>)         │         <span style=\"color: #00af00; text-decoration-color: #00af00\">590,080</span> │\n",
       "├──────────────────────────────────────┼─────────────────────────────┼─────────────────┤\n",
       "│ CBAM_block3 (<span style=\"color: #0087ff; text-decoration-color: #0087ff\">CBAM</span>)                   │ (<span style=\"color: #00d7ff; text-decoration-color: #00d7ff\">None</span>, <span style=\"color: #00af00; text-decoration-color: #00af00\">16</span>, <span style=\"color: #00af00; text-decoration-color: #00af00\">16</span>, <span style=\"color: #00af00; text-decoration-color: #00af00\">256</span>)         │          <span style=\"color: #00af00; text-decoration-color: #00af00\">16,771</span> │\n",
       "├──────────────────────────────────────┼─────────────────────────────┼─────────────────┤\n",
       "│ block3_pool (<span style=\"color: #0087ff; text-decoration-color: #0087ff\">MaxPooling2D</span>)           │ (<span style=\"color: #00d7ff; text-decoration-color: #00d7ff\">None</span>, <span style=\"color: #00af00; text-decoration-color: #00af00\">8</span>, <span style=\"color: #00af00; text-decoration-color: #00af00\">8</span>, <span style=\"color: #00af00; text-decoration-color: #00af00\">256</span>)           │               <span style=\"color: #00af00; text-decoration-color: #00af00\">0</span> │\n",
       "├──────────────────────────────────────┼─────────────────────────────┼─────────────────┤\n",
       "│ block4_conv1 (<span style=\"color: #0087ff; text-decoration-color: #0087ff\">Conv2D</span>)                │ (<span style=\"color: #00d7ff; text-decoration-color: #00d7ff\">None</span>, <span style=\"color: #00af00; text-decoration-color: #00af00\">8</span>, <span style=\"color: #00af00; text-decoration-color: #00af00\">8</span>, <span style=\"color: #00af00; text-decoration-color: #00af00\">512</span>)           │       <span style=\"color: #00af00; text-decoration-color: #00af00\">1,180,160</span> │\n",
       "├──────────────────────────────────────┼─────────────────────────────┼─────────────────┤\n",
       "│ block4_conv2 (<span style=\"color: #0087ff; text-decoration-color: #0087ff\">Conv2D</span>)                │ (<span style=\"color: #00d7ff; text-decoration-color: #00d7ff\">None</span>, <span style=\"color: #00af00; text-decoration-color: #00af00\">8</span>, <span style=\"color: #00af00; text-decoration-color: #00af00\">8</span>, <span style=\"color: #00af00; text-decoration-color: #00af00\">512</span>)           │       <span style=\"color: #00af00; text-decoration-color: #00af00\">2,359,808</span> │\n",
       "├──────────────────────────────────────┼─────────────────────────────┼─────────────────┤\n",
       "│ block4_conv3 (<span style=\"color: #0087ff; text-decoration-color: #0087ff\">Conv2D</span>)                │ (<span style=\"color: #00d7ff; text-decoration-color: #00d7ff\">None</span>, <span style=\"color: #00af00; text-decoration-color: #00af00\">8</span>, <span style=\"color: #00af00; text-decoration-color: #00af00\">8</span>, <span style=\"color: #00af00; text-decoration-color: #00af00\">512</span>)           │       <span style=\"color: #00af00; text-decoration-color: #00af00\">2,359,808</span> │\n",
       "├──────────────────────────────────────┼─────────────────────────────┼─────────────────┤\n",
       "│ block4_conv4 (<span style=\"color: #0087ff; text-decoration-color: #0087ff\">Conv2D</span>)                │ (<span style=\"color: #00d7ff; text-decoration-color: #00d7ff\">None</span>, <span style=\"color: #00af00; text-decoration-color: #00af00\">8</span>, <span style=\"color: #00af00; text-decoration-color: #00af00\">8</span>, <span style=\"color: #00af00; text-decoration-color: #00af00\">512</span>)           │       <span style=\"color: #00af00; text-decoration-color: #00af00\">2,359,808</span> │\n",
       "├──────────────────────────────────────┼─────────────────────────────┼─────────────────┤\n",
       "│ CBAM_block4 (<span style=\"color: #0087ff; text-decoration-color: #0087ff\">CBAM</span>)                   │ (<span style=\"color: #00d7ff; text-decoration-color: #00d7ff\">None</span>, <span style=\"color: #00af00; text-decoration-color: #00af00\">8</span>, <span style=\"color: #00af00; text-decoration-color: #00af00\">8</span>, <span style=\"color: #00af00; text-decoration-color: #00af00\">512</span>)           │          <span style=\"color: #00af00; text-decoration-color: #00af00\">66,211</span> │\n",
       "├──────────────────────────────────────┼─────────────────────────────┼─────────────────┤\n",
       "│ block4_pool (<span style=\"color: #0087ff; text-decoration-color: #0087ff\">MaxPooling2D</span>)           │ (<span style=\"color: #00d7ff; text-decoration-color: #00d7ff\">None</span>, <span style=\"color: #00af00; text-decoration-color: #00af00\">4</span>, <span style=\"color: #00af00; text-decoration-color: #00af00\">4</span>, <span style=\"color: #00af00; text-decoration-color: #00af00\">512</span>)           │               <span style=\"color: #00af00; text-decoration-color: #00af00\">0</span> │\n",
       "├──────────────────────────────────────┼─────────────────────────────┼─────────────────┤\n",
       "│ block5_conv1 (<span style=\"color: #0087ff; text-decoration-color: #0087ff\">Conv2D</span>)                │ (<span style=\"color: #00d7ff; text-decoration-color: #00d7ff\">None</span>, <span style=\"color: #00af00; text-decoration-color: #00af00\">4</span>, <span style=\"color: #00af00; text-decoration-color: #00af00\">4</span>, <span style=\"color: #00af00; text-decoration-color: #00af00\">512</span>)           │       <span style=\"color: #00af00; text-decoration-color: #00af00\">2,359,808</span> │\n",
       "├──────────────────────────────────────┼─────────────────────────────┼─────────────────┤\n",
       "│ block5_conv2 (<span style=\"color: #0087ff; text-decoration-color: #0087ff\">Conv2D</span>)                │ (<span style=\"color: #00d7ff; text-decoration-color: #00d7ff\">None</span>, <span style=\"color: #00af00; text-decoration-color: #00af00\">4</span>, <span style=\"color: #00af00; text-decoration-color: #00af00\">4</span>, <span style=\"color: #00af00; text-decoration-color: #00af00\">512</span>)           │       <span style=\"color: #00af00; text-decoration-color: #00af00\">2,359,808</span> │\n",
       "├──────────────────────────────────────┼─────────────────────────────┼─────────────────┤\n",
       "│ block5_conv3 (<span style=\"color: #0087ff; text-decoration-color: #0087ff\">Conv2D</span>)                │ (<span style=\"color: #00d7ff; text-decoration-color: #00d7ff\">None</span>, <span style=\"color: #00af00; text-decoration-color: #00af00\">4</span>, <span style=\"color: #00af00; text-decoration-color: #00af00\">4</span>, <span style=\"color: #00af00; text-decoration-color: #00af00\">512</span>)           │       <span style=\"color: #00af00; text-decoration-color: #00af00\">2,359,808</span> │\n",
       "├──────────────────────────────────────┼─────────────────────────────┼─────────────────┤\n",
       "│ block5_conv4 (<span style=\"color: #0087ff; text-decoration-color: #0087ff\">Conv2D</span>)                │ (<span style=\"color: #00d7ff; text-decoration-color: #00d7ff\">None</span>, <span style=\"color: #00af00; text-decoration-color: #00af00\">4</span>, <span style=\"color: #00af00; text-decoration-color: #00af00\">4</span>, <span style=\"color: #00af00; text-decoration-color: #00af00\">512</span>)           │       <span style=\"color: #00af00; text-decoration-color: #00af00\">2,359,808</span> │\n",
       "├──────────────────────────────────────┼─────────────────────────────┼─────────────────┤\n",
       "│ CBAM_block5 (<span style=\"color: #0087ff; text-decoration-color: #0087ff\">CBAM</span>)                   │ (<span style=\"color: #00d7ff; text-decoration-color: #00d7ff\">None</span>, <span style=\"color: #00af00; text-decoration-color: #00af00\">4</span>, <span style=\"color: #00af00; text-decoration-color: #00af00\">4</span>, <span style=\"color: #00af00; text-decoration-color: #00af00\">512</span>)           │          <span style=\"color: #00af00; text-decoration-color: #00af00\">66,211</span> │\n",
       "├──────────────────────────────────────┼─────────────────────────────┼─────────────────┤\n",
       "│ block5_pool (<span style=\"color: #0087ff; text-decoration-color: #0087ff\">MaxPooling2D</span>)           │ (<span style=\"color: #00d7ff; text-decoration-color: #00d7ff\">None</span>, <span style=\"color: #00af00; text-decoration-color: #00af00\">2</span>, <span style=\"color: #00af00; text-decoration-color: #00af00\">2</span>, <span style=\"color: #00af00; text-decoration-color: #00af00\">512</span>)           │               <span style=\"color: #00af00; text-decoration-color: #00af00\">0</span> │\n",
       "├──────────────────────────────────────┼─────────────────────────────┼─────────────────┤\n",
       "│ class_flatten (<span style=\"color: #0087ff; text-decoration-color: #0087ff\">Flatten</span>)              │ (<span style=\"color: #00d7ff; text-decoration-color: #00d7ff\">None</span>, <span style=\"color: #00af00; text-decoration-color: #00af00\">2048</span>)                │               <span style=\"color: #00af00; text-decoration-color: #00af00\">0</span> │\n",
       "├──────────────────────────────────────┼─────────────────────────────┼─────────────────┤\n",
       "│ class_dense1 (<span style=\"color: #0087ff; text-decoration-color: #0087ff\">Dense</span>)                 │ (<span style=\"color: #00d7ff; text-decoration-color: #00d7ff\">None</span>, <span style=\"color: #00af00; text-decoration-color: #00af00\">512</span>)                 │       <span style=\"color: #00af00; text-decoration-color: #00af00\">1,049,088</span> │\n",
       "├──────────────────────────────────────┼─────────────────────────────┼─────────────────┤\n",
       "│ class_dropout1 (<span style=\"color: #0087ff; text-decoration-color: #0087ff\">Dropout</span>)             │ (<span style=\"color: #00d7ff; text-decoration-color: #00d7ff\">None</span>, <span style=\"color: #00af00; text-decoration-color: #00af00\">512</span>)                 │               <span style=\"color: #00af00; text-decoration-color: #00af00\">0</span> │\n",
       "├──────────────────────────────────────┼─────────────────────────────┼─────────────────┤\n",
       "│ class_batch1 (<span style=\"color: #0087ff; text-decoration-color: #0087ff\">BatchNormalization</span>)    │ (<span style=\"color: #00d7ff; text-decoration-color: #00d7ff\">None</span>, <span style=\"color: #00af00; text-decoration-color: #00af00\">512</span>)                 │           <span style=\"color: #00af00; text-decoration-color: #00af00\">2,048</span> │\n",
       "├──────────────────────────────────────┼─────────────────────────────┼─────────────────┤\n",
       "│ class_dense2 (<span style=\"color: #0087ff; text-decoration-color: #0087ff\">Dense</span>)                 │ (<span style=\"color: #00d7ff; text-decoration-color: #00d7ff\">None</span>, <span style=\"color: #00af00; text-decoration-color: #00af00\">512</span>)                 │         <span style=\"color: #00af00; text-decoration-color: #00af00\">262,656</span> │\n",
       "├──────────────────────────────────────┼─────────────────────────────┼─────────────────┤\n",
       "│ class_dropout2 (<span style=\"color: #0087ff; text-decoration-color: #0087ff\">Dropout</span>)             │ (<span style=\"color: #00d7ff; text-decoration-color: #00d7ff\">None</span>, <span style=\"color: #00af00; text-decoration-color: #00af00\">512</span>)                 │               <span style=\"color: #00af00; text-decoration-color: #00af00\">0</span> │\n",
       "├──────────────────────────────────────┼─────────────────────────────┼─────────────────┤\n",
       "│ class_batch2 (<span style=\"color: #0087ff; text-decoration-color: #0087ff\">BatchNormalization</span>)    │ (<span style=\"color: #00d7ff; text-decoration-color: #00d7ff\">None</span>, <span style=\"color: #00af00; text-decoration-color: #00af00\">512</span>)                 │           <span style=\"color: #00af00; text-decoration-color: #00af00\">2,048</span> │\n",
       "├──────────────────────────────────────┼─────────────────────────────┼─────────────────┤\n",
       "│ class_dense3 (<span style=\"color: #0087ff; text-decoration-color: #0087ff\">Dense</span>)                 │ (<span style=\"color: #00d7ff; text-decoration-color: #00d7ff\">None</span>, <span style=\"color: #00af00; text-decoration-color: #00af00\">26</span>)                  │          <span style=\"color: #00af00; text-decoration-color: #00af00\">13,338</span> │\n",
       "└──────────────────────────────────────┴─────────────────────────────┴─────────────────┘\n",
       "</pre>\n"
      ],
      "text/plain": [
       "┏━━━━━━━━━━━━━━━━━━━━━━━━━━━━━━━━━━━━━━┳━━━━━━━━━━━━━━━━━━━━━━━━━━━━━┳━━━━━━━━━━━━━━━━━┓\n",
       "┃\u001b[1m \u001b[0m\u001b[1mLayer (type)                        \u001b[0m\u001b[1m \u001b[0m┃\u001b[1m \u001b[0m\u001b[1mOutput Shape               \u001b[0m\u001b[1m \u001b[0m┃\u001b[1m \u001b[0m\u001b[1m        Param #\u001b[0m\u001b[1m \u001b[0m┃\n",
       "┡━━━━━━━━━━━━━━━━━━━━━━━━━━━━━━━━━━━━━━╇━━━━━━━━━━━━━━━━━━━━━━━━━━━━━╇━━━━━━━━━━━━━━━━━┩\n",
       "│ block1_conv1 (\u001b[38;5;33mConv2D\u001b[0m)                │ (\u001b[38;5;45mNone\u001b[0m, \u001b[38;5;34m64\u001b[0m, \u001b[38;5;34m64\u001b[0m, \u001b[38;5;34m64\u001b[0m)          │           \u001b[38;5;34m1,792\u001b[0m │\n",
       "├──────────────────────────────────────┼─────────────────────────────┼─────────────────┤\n",
       "│ block1_conv2 (\u001b[38;5;33mConv2D\u001b[0m)                │ (\u001b[38;5;45mNone\u001b[0m, \u001b[38;5;34m64\u001b[0m, \u001b[38;5;34m64\u001b[0m, \u001b[38;5;34m64\u001b[0m)          │          \u001b[38;5;34m36,928\u001b[0m │\n",
       "├──────────────────────────────────────┼─────────────────────────────┼─────────────────┤\n",
       "│ CBAM_block1 (\u001b[38;5;33mCBAM\u001b[0m)                   │ (\u001b[38;5;45mNone\u001b[0m, \u001b[38;5;34m64\u001b[0m, \u001b[38;5;34m64\u001b[0m, \u001b[38;5;34m64\u001b[0m)          │           \u001b[38;5;34m1,195\u001b[0m │\n",
       "├──────────────────────────────────────┼─────────────────────────────┼─────────────────┤\n",
       "│ block1_pool (\u001b[38;5;33mMaxPooling2D\u001b[0m)           │ (\u001b[38;5;45mNone\u001b[0m, \u001b[38;5;34m32\u001b[0m, \u001b[38;5;34m32\u001b[0m, \u001b[38;5;34m64\u001b[0m)          │               \u001b[38;5;34m0\u001b[0m │\n",
       "├──────────────────────────────────────┼─────────────────────────────┼─────────────────┤\n",
       "│ block2_conv1 (\u001b[38;5;33mConv2D\u001b[0m)                │ (\u001b[38;5;45mNone\u001b[0m, \u001b[38;5;34m32\u001b[0m, \u001b[38;5;34m32\u001b[0m, \u001b[38;5;34m128\u001b[0m)         │          \u001b[38;5;34m73,856\u001b[0m │\n",
       "├──────────────────────────────────────┼─────────────────────────────┼─────────────────┤\n",
       "│ block2_conv2 (\u001b[38;5;33mConv2D\u001b[0m)                │ (\u001b[38;5;45mNone\u001b[0m, \u001b[38;5;34m32\u001b[0m, \u001b[38;5;34m32\u001b[0m, \u001b[38;5;34m128\u001b[0m)         │         \u001b[38;5;34m147,584\u001b[0m │\n",
       "├──────────────────────────────────────┼─────────────────────────────┼─────────────────┤\n",
       "│ CBAM_block2 (\u001b[38;5;33mCBAM\u001b[0m)                   │ (\u001b[38;5;45mNone\u001b[0m, \u001b[38;5;34m32\u001b[0m, \u001b[38;5;34m32\u001b[0m, \u001b[38;5;34m128\u001b[0m)         │           \u001b[38;5;34m4,339\u001b[0m │\n",
       "├──────────────────────────────────────┼─────────────────────────────┼─────────────────┤\n",
       "│ block2_pool (\u001b[38;5;33mMaxPooling2D\u001b[0m)           │ (\u001b[38;5;45mNone\u001b[0m, \u001b[38;5;34m16\u001b[0m, \u001b[38;5;34m16\u001b[0m, \u001b[38;5;34m128\u001b[0m)         │               \u001b[38;5;34m0\u001b[0m │\n",
       "├──────────────────────────────────────┼─────────────────────────────┼─────────────────┤\n",
       "│ block3_conv1 (\u001b[38;5;33mConv2D\u001b[0m)                │ (\u001b[38;5;45mNone\u001b[0m, \u001b[38;5;34m16\u001b[0m, \u001b[38;5;34m16\u001b[0m, \u001b[38;5;34m256\u001b[0m)         │         \u001b[38;5;34m295,168\u001b[0m │\n",
       "├──────────────────────────────────────┼─────────────────────────────┼─────────────────┤\n",
       "│ block3_conv2 (\u001b[38;5;33mConv2D\u001b[0m)                │ (\u001b[38;5;45mNone\u001b[0m, \u001b[38;5;34m16\u001b[0m, \u001b[38;5;34m16\u001b[0m, \u001b[38;5;34m256\u001b[0m)         │         \u001b[38;5;34m590,080\u001b[0m │\n",
       "├──────────────────────────────────────┼─────────────────────────────┼─────────────────┤\n",
       "│ block3_conv3 (\u001b[38;5;33mConv2D\u001b[0m)                │ (\u001b[38;5;45mNone\u001b[0m, \u001b[38;5;34m16\u001b[0m, \u001b[38;5;34m16\u001b[0m, \u001b[38;5;34m256\u001b[0m)         │         \u001b[38;5;34m590,080\u001b[0m │\n",
       "├──────────────────────────────────────┼─────────────────────────────┼─────────────────┤\n",
       "│ block3_conv4 (\u001b[38;5;33mConv2D\u001b[0m)                │ (\u001b[38;5;45mNone\u001b[0m, \u001b[38;5;34m16\u001b[0m, \u001b[38;5;34m16\u001b[0m, \u001b[38;5;34m256\u001b[0m)         │         \u001b[38;5;34m590,080\u001b[0m │\n",
       "├──────────────────────────────────────┼─────────────────────────────┼─────────────────┤\n",
       "│ CBAM_block3 (\u001b[38;5;33mCBAM\u001b[0m)                   │ (\u001b[38;5;45mNone\u001b[0m, \u001b[38;5;34m16\u001b[0m, \u001b[38;5;34m16\u001b[0m, \u001b[38;5;34m256\u001b[0m)         │          \u001b[38;5;34m16,771\u001b[0m │\n",
       "├──────────────────────────────────────┼─────────────────────────────┼─────────────────┤\n",
       "│ block3_pool (\u001b[38;5;33mMaxPooling2D\u001b[0m)           │ (\u001b[38;5;45mNone\u001b[0m, \u001b[38;5;34m8\u001b[0m, \u001b[38;5;34m8\u001b[0m, \u001b[38;5;34m256\u001b[0m)           │               \u001b[38;5;34m0\u001b[0m │\n",
       "├──────────────────────────────────────┼─────────────────────────────┼─────────────────┤\n",
       "│ block4_conv1 (\u001b[38;5;33mConv2D\u001b[0m)                │ (\u001b[38;5;45mNone\u001b[0m, \u001b[38;5;34m8\u001b[0m, \u001b[38;5;34m8\u001b[0m, \u001b[38;5;34m512\u001b[0m)           │       \u001b[38;5;34m1,180,160\u001b[0m │\n",
       "├──────────────────────────────────────┼─────────────────────────────┼─────────────────┤\n",
       "│ block4_conv2 (\u001b[38;5;33mConv2D\u001b[0m)                │ (\u001b[38;5;45mNone\u001b[0m, \u001b[38;5;34m8\u001b[0m, \u001b[38;5;34m8\u001b[0m, \u001b[38;5;34m512\u001b[0m)           │       \u001b[38;5;34m2,359,808\u001b[0m │\n",
       "├──────────────────────────────────────┼─────────────────────────────┼─────────────────┤\n",
       "│ block4_conv3 (\u001b[38;5;33mConv2D\u001b[0m)                │ (\u001b[38;5;45mNone\u001b[0m, \u001b[38;5;34m8\u001b[0m, \u001b[38;5;34m8\u001b[0m, \u001b[38;5;34m512\u001b[0m)           │       \u001b[38;5;34m2,359,808\u001b[0m │\n",
       "├──────────────────────────────────────┼─────────────────────────────┼─────────────────┤\n",
       "│ block4_conv4 (\u001b[38;5;33mConv2D\u001b[0m)                │ (\u001b[38;5;45mNone\u001b[0m, \u001b[38;5;34m8\u001b[0m, \u001b[38;5;34m8\u001b[0m, \u001b[38;5;34m512\u001b[0m)           │       \u001b[38;5;34m2,359,808\u001b[0m │\n",
       "├──────────────────────────────────────┼─────────────────────────────┼─────────────────┤\n",
       "│ CBAM_block4 (\u001b[38;5;33mCBAM\u001b[0m)                   │ (\u001b[38;5;45mNone\u001b[0m, \u001b[38;5;34m8\u001b[0m, \u001b[38;5;34m8\u001b[0m, \u001b[38;5;34m512\u001b[0m)           │          \u001b[38;5;34m66,211\u001b[0m │\n",
       "├──────────────────────────────────────┼─────────────────────────────┼─────────────────┤\n",
       "│ block4_pool (\u001b[38;5;33mMaxPooling2D\u001b[0m)           │ (\u001b[38;5;45mNone\u001b[0m, \u001b[38;5;34m4\u001b[0m, \u001b[38;5;34m4\u001b[0m, \u001b[38;5;34m512\u001b[0m)           │               \u001b[38;5;34m0\u001b[0m │\n",
       "├──────────────────────────────────────┼─────────────────────────────┼─────────────────┤\n",
       "│ block5_conv1 (\u001b[38;5;33mConv2D\u001b[0m)                │ (\u001b[38;5;45mNone\u001b[0m, \u001b[38;5;34m4\u001b[0m, \u001b[38;5;34m4\u001b[0m, \u001b[38;5;34m512\u001b[0m)           │       \u001b[38;5;34m2,359,808\u001b[0m │\n",
       "├──────────────────────────────────────┼─────────────────────────────┼─────────────────┤\n",
       "│ block5_conv2 (\u001b[38;5;33mConv2D\u001b[0m)                │ (\u001b[38;5;45mNone\u001b[0m, \u001b[38;5;34m4\u001b[0m, \u001b[38;5;34m4\u001b[0m, \u001b[38;5;34m512\u001b[0m)           │       \u001b[38;5;34m2,359,808\u001b[0m │\n",
       "├──────────────────────────────────────┼─────────────────────────────┼─────────────────┤\n",
       "│ block5_conv3 (\u001b[38;5;33mConv2D\u001b[0m)                │ (\u001b[38;5;45mNone\u001b[0m, \u001b[38;5;34m4\u001b[0m, \u001b[38;5;34m4\u001b[0m, \u001b[38;5;34m512\u001b[0m)           │       \u001b[38;5;34m2,359,808\u001b[0m │\n",
       "├──────────────────────────────────────┼─────────────────────────────┼─────────────────┤\n",
       "│ block5_conv4 (\u001b[38;5;33mConv2D\u001b[0m)                │ (\u001b[38;5;45mNone\u001b[0m, \u001b[38;5;34m4\u001b[0m, \u001b[38;5;34m4\u001b[0m, \u001b[38;5;34m512\u001b[0m)           │       \u001b[38;5;34m2,359,808\u001b[0m │\n",
       "├──────────────────────────────────────┼─────────────────────────────┼─────────────────┤\n",
       "│ CBAM_block5 (\u001b[38;5;33mCBAM\u001b[0m)                   │ (\u001b[38;5;45mNone\u001b[0m, \u001b[38;5;34m4\u001b[0m, \u001b[38;5;34m4\u001b[0m, \u001b[38;5;34m512\u001b[0m)           │          \u001b[38;5;34m66,211\u001b[0m │\n",
       "├──────────────────────────────────────┼─────────────────────────────┼─────────────────┤\n",
       "│ block5_pool (\u001b[38;5;33mMaxPooling2D\u001b[0m)           │ (\u001b[38;5;45mNone\u001b[0m, \u001b[38;5;34m2\u001b[0m, \u001b[38;5;34m2\u001b[0m, \u001b[38;5;34m512\u001b[0m)           │               \u001b[38;5;34m0\u001b[0m │\n",
       "├──────────────────────────────────────┼─────────────────────────────┼─────────────────┤\n",
       "│ class_flatten (\u001b[38;5;33mFlatten\u001b[0m)              │ (\u001b[38;5;45mNone\u001b[0m, \u001b[38;5;34m2048\u001b[0m)                │               \u001b[38;5;34m0\u001b[0m │\n",
       "├──────────────────────────────────────┼─────────────────────────────┼─────────────────┤\n",
       "│ class_dense1 (\u001b[38;5;33mDense\u001b[0m)                 │ (\u001b[38;5;45mNone\u001b[0m, \u001b[38;5;34m512\u001b[0m)                 │       \u001b[38;5;34m1,049,088\u001b[0m │\n",
       "├──────────────────────────────────────┼─────────────────────────────┼─────────────────┤\n",
       "│ class_dropout1 (\u001b[38;5;33mDropout\u001b[0m)             │ (\u001b[38;5;45mNone\u001b[0m, \u001b[38;5;34m512\u001b[0m)                 │               \u001b[38;5;34m0\u001b[0m │\n",
       "├──────────────────────────────────────┼─────────────────────────────┼─────────────────┤\n",
       "│ class_batch1 (\u001b[38;5;33mBatchNormalization\u001b[0m)    │ (\u001b[38;5;45mNone\u001b[0m, \u001b[38;5;34m512\u001b[0m)                 │           \u001b[38;5;34m2,048\u001b[0m │\n",
       "├──────────────────────────────────────┼─────────────────────────────┼─────────────────┤\n",
       "│ class_dense2 (\u001b[38;5;33mDense\u001b[0m)                 │ (\u001b[38;5;45mNone\u001b[0m, \u001b[38;5;34m512\u001b[0m)                 │         \u001b[38;5;34m262,656\u001b[0m │\n",
       "├──────────────────────────────────────┼─────────────────────────────┼─────────────────┤\n",
       "│ class_dropout2 (\u001b[38;5;33mDropout\u001b[0m)             │ (\u001b[38;5;45mNone\u001b[0m, \u001b[38;5;34m512\u001b[0m)                 │               \u001b[38;5;34m0\u001b[0m │\n",
       "├──────────────────────────────────────┼─────────────────────────────┼─────────────────┤\n",
       "│ class_batch2 (\u001b[38;5;33mBatchNormalization\u001b[0m)    │ (\u001b[38;5;45mNone\u001b[0m, \u001b[38;5;34m512\u001b[0m)                 │           \u001b[38;5;34m2,048\u001b[0m │\n",
       "├──────────────────────────────────────┼─────────────────────────────┼─────────────────┤\n",
       "│ class_dense3 (\u001b[38;5;33mDense\u001b[0m)                 │ (\u001b[38;5;45mNone\u001b[0m, \u001b[38;5;34m26\u001b[0m)                  │          \u001b[38;5;34m13,338\u001b[0m │\n",
       "└──────────────────────────────────────┴─────────────────────────────┴─────────────────┘\n"
      ]
     },
     "metadata": {},
     "output_type": "display_data"
    },
    {
     "data": {
      "text/html": [
       "<pre style=\"white-space:pre;overflow-x:auto;line-height:normal;font-family:Menlo,'DejaVu Sans Mono',consolas,'Courier New',monospace\"><span style=\"font-weight: bold\"> Total params: </span><span style=\"color: #00af00; text-decoration-color: #00af00\">21,508,289</span> (82.05 MB)\n",
       "</pre>\n"
      ],
      "text/plain": [
       "\u001b[1m Total params: \u001b[0m\u001b[38;5;34m21,508,289\u001b[0m (82.05 MB)\n"
      ]
     },
     "metadata": {},
     "output_type": "display_data"
    },
    {
     "data": {
      "text/html": [
       "<pre style=\"white-space:pre;overflow-x:auto;line-height:normal;font-family:Menlo,'DejaVu Sans Mono',consolas,'Courier New',monospace\"><span style=\"font-weight: bold\"> Trainable params: </span><span style=\"color: #00af00; text-decoration-color: #00af00\">21,506,241</span> (82.04 MB)\n",
       "</pre>\n"
      ],
      "text/plain": [
       "\u001b[1m Trainable params: \u001b[0m\u001b[38;5;34m21,506,241\u001b[0m (82.04 MB)\n"
      ]
     },
     "metadata": {},
     "output_type": "display_data"
    },
    {
     "data": {
      "text/html": [
       "<pre style=\"white-space:pre;overflow-x:auto;line-height:normal;font-family:Menlo,'DejaVu Sans Mono',consolas,'Courier New',monospace\"><span style=\"font-weight: bold\"> Non-trainable params: </span><span style=\"color: #00af00; text-decoration-color: #00af00\">2,048</span> (8.00 KB)\n",
       "</pre>\n"
      ],
      "text/plain": [
       "\u001b[1m Non-trainable params: \u001b[0m\u001b[38;5;34m2,048\u001b[0m (8.00 KB)\n"
      ]
     },
     "metadata": {},
     "output_type": "display_data"
    }
   ],
   "source": [
    "model = CBAM_Model()\n",
    "model.build((None, IMAGE_WIDTH, IMAGE_HEIGHT, IMAGE_CHANNELS))\n",
    "model.summary()"
   ]
  },
  {
   "cell_type": "markdown",
   "id": "8d16b8be-99df-46ea-8f4c-3ab922a55a7a",
   "metadata": {},
   "source": [
    "## Loading the weights"
   ]
  },
  {
   "cell_type": "code",
   "execution_count": 8,
   "id": "8a6ffacc-7465-4b89-a6d9-46f50124a38b",
   "metadata": {},
   "outputs": [],
   "source": [
    "model.load_weights(WEIGHTS, by_name=True, skip_mismatch=True)"
   ]
  },
  {
   "cell_type": "markdown",
   "id": "cdde6b1d-1b07-4cf1-9a99-0c9a54c43c22",
   "metadata": {},
   "source": [
    "## Compiling the model"
   ]
  },
  {
   "cell_type": "code",
   "execution_count": 9,
   "id": "2821438d-43c0-4b55-a460-b194cebe68f7",
   "metadata": {},
   "outputs": [],
   "source": [
    "model.compile(optimizer=optimizers.RMSprop(learning_rate=LEARNINGRATE), loss='categorical_crossentropy', metrics=['accuracy'])"
   ]
  },
  {
   "cell_type": "markdown",
   "id": "6de62754-68d6-467c-92a2-a662444fa928",
   "metadata": {},
   "source": [
    "## Saving the clean model"
   ]
  },
  {
   "cell_type": "code",
   "execution_count": 11,
   "id": "ffd3669d-0db7-403f-8411-19b0812661b2",
   "metadata": {},
   "outputs": [],
   "source": [
    "save_model(model, \"CleanModels\\\\CleanCbamModel.keras\", include_optimizer=True)"
   ]
  },
  {
   "cell_type": "markdown",
   "id": "d03c8696-fdcd-4b02-bf8b-e41f21875fd7",
   "metadata": {},
   "source": [
    "## Loading the dataset"
   ]
  },
  {
   "cell_type": "code",
   "execution_count": 12,
   "id": "194539b9-070b-4610-b643-a8debb9d5b9a",
   "metadata": {},
   "outputs": [],
   "source": [
    "def get_labels_images(path):\n",
    "    labels = []\n",
    "    images = []\n",
    "    directories = []\n",
    "    \n",
    "    for directory in os.listdir(path):\n",
    "        for Label in os.listdir(path + '/' + directory):\n",
    "            for Image in os.listdir(path + '/' + directory + '/' + Label):\n",
    "                directories.append(directory)\n",
    "                labels.append(Label)\n",
    "                images.append(directory + '/' + Label + '/' + Image)\n",
    "                \n",
    "    return pd.DataFrame({'directories':directories, 'labels':labels, 'images':images})"
   ]
  },
  {
   "cell_type": "code",
   "execution_count": 13,
   "id": "7c9b96dd-d06a-465f-8e64-20172e69a01e",
   "metadata": {},
   "outputs": [],
   "source": [
    "df = get_labels_images(dataset_dir)"
   ]
  },
  {
   "cell_type": "markdown",
   "id": "7016f2b1-4145-495f-b0bd-de2adfef366b",
   "metadata": {},
   "source": [
    "## Preparing dataset for training"
   ]
  },
  {
   "cell_type": "code",
   "execution_count": 14,
   "id": "851fd70f-823e-4253-9505-c17bae6e9424",
   "metadata": {},
   "outputs": [],
   "source": [
    "def split_data(data):\n",
    "    train_df, test_df = train_test_split(data, test_size=0.10, random_state=SEED)\n",
    "    train_df, val_df = train_test_split(train_df, test_size=0.15, random_state=SEED)\n",
    "\n",
    "    train_df = train_df.reset_index(drop=True)\n",
    "    val_df = val_df.reset_index(drop=True)\n",
    "    test_df = test_df.reset_index(drop=True)\n",
    "\n",
    "    print('----------------------------------------------------------------')\n",
    "    print(\"The Number of Samples per Split\")\n",
    "    print('----------------------------------------------------------------')\n",
    "    print('Number of   training samples : {}'.format(train_df.shape[0]))\n",
    "    print('Number of validation samples : {}'.format(val_df.shape[0]))\n",
    "    print('Number of       test samples : {}'.format(test_df.shape[0]))\n",
    "    print('----------------------------------------------------------------')\n",
    "\n",
    "    return train_df, val_df, test_df"
   ]
  },
  {
   "cell_type": "code",
   "execution_count": 15,
   "id": "01dfacc4-ef1b-494e-a2ec-b12a4f2cac09",
   "metadata": {},
   "outputs": [],
   "source": [
    "def define_image_generators(train_df, val_df, test_df):\n",
    "    train_generator = datagen.flow_from_dataframe(train_df, **data_gen_args)\n",
    "    val_generator = datagen.flow_from_dataframe(val_df, **data_gen_args)\n",
    "    test_generator = datagen.flow_from_dataframe(test_df, **data_gen_args, shuffle = False)\n",
    "    \n",
    "    return train_generator, val_generator, test_generator"
   ]
  },
  {
   "cell_type": "code",
   "execution_count": 16,
   "id": "f197e378-cd54-45dd-9877-2bb5effcdf1f",
   "metadata": {},
   "outputs": [
    {
     "name": "stdout",
     "output_type": "stream",
     "text": [
      "----------------------------------------------------------------\n",
      "The Number of Samples per Split\n",
      "----------------------------------------------------------------\n",
      "Number of   training samples : 333870\n",
      "Number of validation samples : 58919\n",
      "Number of       test samples : 43644\n",
      "----------------------------------------------------------------\n"
     ]
    }
   ],
   "source": [
    "train_df, val_df, test_df = split_data(df)"
   ]
  },
  {
   "cell_type": "code",
   "execution_count": 17,
   "id": "dd248e8d-3c93-4231-9cb2-b2ada8652355",
   "metadata": {},
   "outputs": [
    {
     "name": "stdout",
     "output_type": "stream",
     "text": [
      "Found 333870 validated image filenames belonging to 26 classes.\n",
      "Found 58919 validated image filenames belonging to 26 classes.\n",
      "Found 43644 validated image filenames belonging to 26 classes.\n"
     ]
    }
   ],
   "source": [
    "train_generator, val_generator, test_generator = define_image_generators(train_df, val_df, test_df)"
   ]
  },
  {
   "cell_type": "markdown",
   "id": "7a984a30-78b4-4db2-85d5-01d5bcd4fa59",
   "metadata": {},
   "source": [
    "## Loading model from the checkpoints"
   ]
  },
  {
   "cell_type": "code",
   "execution_count": null,
   "id": "01be539e-399c-454a-bb1c-f99d3006ae34",
   "metadata": {},
   "outputs": [],
   "source": [
    "# Loading the latest checkpoint\n",
    "latest_checkpoint = max(glob.glob(os.path.join(checkpoints_dir, \"cp-*\")), key=os.path.getmtime)\n",
    "start_epoch = int(re.search(r\"cp-(\\d+)\", latest_checkpoint).group(1))\n",
    "\n",
    "# Loading full model from checkpoints\n",
    "model = tf.keras.models.load_model(latest_checkpoint)"
   ]
  },
  {
   "cell_type": "markdown",
   "id": "e546d4e7-23c1-4dd1-a24f-77f772e99ee8",
   "metadata": {},
   "source": [
    "## Training model"
   ]
  },
  {
   "cell_type": "code",
   "execution_count": null,
   "id": "acde331f-ebe7-4422-a336-4e8fbd616749",
   "metadata": {},
   "outputs": [],
   "source": [
    "checkpoints = tf.keras.callbacks.ModelCheckpoint(\n",
    "    filepath=checkpoints_path,\n",
    "    verbose=1,\n",
    "    save_weights_only=False,\n",
    "    save_freq=\"epoch\"\n",
    ")\n",
    "\n",
    "callback_list = [early_stop, checkpoints, learningrate_reduction]"
   ]
  },
  {
   "cell_type": "code",
   "execution_count": 18,
   "id": "e09783fd-f506-4906-9804-1c4e8bfb5216",
   "metadata": {},
   "outputs": [
    {
     "name": "stderr",
     "output_type": "stream",
     "text": [
      "C:\\Users\\peklu\\Desktop\\VisualAttentionAsExplanation\\notebooks\\env\\Lib\\site-packages\\keras\\src\\trainers\\data_adapters\\py_dataset_adapter.py:121: UserWarning: Your `PyDataset` class should call `super().__init__(**kwargs)` in its constructor. `**kwargs` can include `workers`, `use_multiprocessing`, `max_queue_size`. Do not pass these arguments to `fit()`, as they will be ignored.\n",
      "  self._warn_if_super_not_called()\n"
     ]
    },
    {
     "name": "stdout",
     "output_type": "stream",
     "text": [
      "Epoch 1/10\n",
      "\u001b[1m1334/2609\u001b[0m \u001b[32m━━━━━━━━━━\u001b[0m\u001b[37m━━━━━━━━━━\u001b[0m \u001b[1m5:11:17\u001b[0m 15s/step - accuracy: 0.4306 - loss: 2.1935"
     ]
    },
    {
     "ename": "KeyboardInterrupt",
     "evalue": "",
     "output_type": "error",
     "traceback": [
      "\u001b[31m---------------------------------------------------------------------------\u001b[39m",
      "\u001b[31mKeyboardInterrupt\u001b[39m                         Traceback (most recent call last)",
      "\u001b[36mCell\u001b[39m\u001b[36m \u001b[39m\u001b[32mIn[18]\u001b[39m\u001b[32m, line 1\u001b[39m\n\u001b[32m----> \u001b[39m\u001b[32m1\u001b[39m history = \u001b[43mmodel\u001b[49m\u001b[43m.\u001b[49m\u001b[43mfit\u001b[49m\u001b[43m(\u001b[49m\u001b[43mtrain_generator\u001b[49m\u001b[43m,\u001b[49m\n\u001b[32m      2\u001b[39m \u001b[43m                    \u001b[49m\u001b[43mepochs\u001b[49m\u001b[43m \u001b[49m\u001b[43m=\u001b[49m\u001b[43m \u001b[49m\u001b[43mEPOCHS\u001b[49m\u001b[43m,\u001b[49m\n\u001b[32m      3\u001b[39m \u001b[43m                    \u001b[49m\u001b[43mvalidation_data\u001b[49m\u001b[43m \u001b[49m\u001b[43m=\u001b[49m\u001b[43m \u001b[49m\u001b[43mval_generator\u001b[49m\u001b[43m,\u001b[49m\n\u001b[32m      4\u001b[39m \u001b[43m                    \u001b[49m\u001b[43mcallbacks\u001b[49m\u001b[43m \u001b[49m\u001b[43m=\u001b[49m\u001b[43m \u001b[49m\u001b[43mcallback_list\u001b[49m\u001b[43m)\u001b[49m\n",
      "\u001b[36mFile \u001b[39m\u001b[32m~\\Desktop\\VisualAttentionAsExplanation\\notebooks\\env\\Lib\\site-packages\\keras\\src\\utils\\traceback_utils.py:117\u001b[39m, in \u001b[36mfilter_traceback.<locals>.error_handler\u001b[39m\u001b[34m(*args, **kwargs)\u001b[39m\n\u001b[32m    115\u001b[39m filtered_tb = \u001b[38;5;28;01mNone\u001b[39;00m\n\u001b[32m    116\u001b[39m \u001b[38;5;28;01mtry\u001b[39;00m:\n\u001b[32m--> \u001b[39m\u001b[32m117\u001b[39m     \u001b[38;5;28;01mreturn\u001b[39;00m \u001b[43mfn\u001b[49m\u001b[43m(\u001b[49m\u001b[43m*\u001b[49m\u001b[43margs\u001b[49m\u001b[43m,\u001b[49m\u001b[43m \u001b[49m\u001b[43m*\u001b[49m\u001b[43m*\u001b[49m\u001b[43mkwargs\u001b[49m\u001b[43m)\u001b[49m\n\u001b[32m    118\u001b[39m \u001b[38;5;28;01mexcept\u001b[39;00m \u001b[38;5;167;01mException\u001b[39;00m \u001b[38;5;28;01mas\u001b[39;00m e:\n\u001b[32m    119\u001b[39m     filtered_tb = _process_traceback_frames(e.__traceback__)\n",
      "\u001b[36mFile \u001b[39m\u001b[32m~\\Desktop\\VisualAttentionAsExplanation\\notebooks\\env\\Lib\\site-packages\\keras\\src\\backend\\tensorflow\\trainer.py:377\u001b[39m, in \u001b[36mTensorFlowTrainer.fit\u001b[39m\u001b[34m(self, x, y, batch_size, epochs, verbose, callbacks, validation_split, validation_data, shuffle, class_weight, sample_weight, initial_epoch, steps_per_epoch, validation_steps, validation_batch_size, validation_freq)\u001b[39m\n\u001b[32m    375\u001b[39m \u001b[38;5;28;01mfor\u001b[39;00m begin_step, end_step, iterator \u001b[38;5;129;01min\u001b[39;00m epoch_iterator:\n\u001b[32m    376\u001b[39m     callbacks.on_train_batch_begin(begin_step)\n\u001b[32m--> \u001b[39m\u001b[32m377\u001b[39m     logs = \u001b[38;5;28;43mself\u001b[39;49m\u001b[43m.\u001b[49m\u001b[43mtrain_function\u001b[49m\u001b[43m(\u001b[49m\u001b[43miterator\u001b[49m\u001b[43m)\u001b[49m\n\u001b[32m    378\u001b[39m     callbacks.on_train_batch_end(end_step, logs)\n\u001b[32m    379\u001b[39m     \u001b[38;5;28;01mif\u001b[39;00m \u001b[38;5;28mself\u001b[39m.stop_training:\n",
      "\u001b[36mFile \u001b[39m\u001b[32m~\\Desktop\\VisualAttentionAsExplanation\\notebooks\\env\\Lib\\site-packages\\keras\\src\\backend\\tensorflow\\trainer.py:220\u001b[39m, in \u001b[36mTensorFlowTrainer._make_function.<locals>.function\u001b[39m\u001b[34m(iterator)\u001b[39m\n\u001b[32m    216\u001b[39m \u001b[38;5;28;01mdef\u001b[39;00m\u001b[38;5;250m \u001b[39m\u001b[34mfunction\u001b[39m(iterator):\n\u001b[32m    217\u001b[39m     \u001b[38;5;28;01mif\u001b[39;00m \u001b[38;5;28misinstance\u001b[39m(\n\u001b[32m    218\u001b[39m         iterator, (tf.data.Iterator, tf.distribute.DistributedIterator)\n\u001b[32m    219\u001b[39m     ):\n\u001b[32m--> \u001b[39m\u001b[32m220\u001b[39m         opt_outputs = \u001b[43mmulti_step_on_iterator\u001b[49m\u001b[43m(\u001b[49m\u001b[43miterator\u001b[49m\u001b[43m)\u001b[49m\n\u001b[32m    221\u001b[39m         \u001b[38;5;28;01mif\u001b[39;00m \u001b[38;5;129;01mnot\u001b[39;00m opt_outputs.has_value():\n\u001b[32m    222\u001b[39m             \u001b[38;5;28;01mraise\u001b[39;00m \u001b[38;5;167;01mStopIteration\u001b[39;00m\n",
      "\u001b[36mFile \u001b[39m\u001b[32m~\\Desktop\\VisualAttentionAsExplanation\\notebooks\\env\\Lib\\site-packages\\tensorflow\\python\\util\\traceback_utils.py:150\u001b[39m, in \u001b[36mfilter_traceback.<locals>.error_handler\u001b[39m\u001b[34m(*args, **kwargs)\u001b[39m\n\u001b[32m    148\u001b[39m filtered_tb = \u001b[38;5;28;01mNone\u001b[39;00m\n\u001b[32m    149\u001b[39m \u001b[38;5;28;01mtry\u001b[39;00m:\n\u001b[32m--> \u001b[39m\u001b[32m150\u001b[39m   \u001b[38;5;28;01mreturn\u001b[39;00m \u001b[43mfn\u001b[49m\u001b[43m(\u001b[49m\u001b[43m*\u001b[49m\u001b[43margs\u001b[49m\u001b[43m,\u001b[49m\u001b[43m \u001b[49m\u001b[43m*\u001b[49m\u001b[43m*\u001b[49m\u001b[43mkwargs\u001b[49m\u001b[43m)\u001b[49m\n\u001b[32m    151\u001b[39m \u001b[38;5;28;01mexcept\u001b[39;00m \u001b[38;5;167;01mException\u001b[39;00m \u001b[38;5;28;01mas\u001b[39;00m e:\n\u001b[32m    152\u001b[39m   filtered_tb = _process_traceback_frames(e.__traceback__)\n",
      "\u001b[36mFile \u001b[39m\u001b[32m~\\Desktop\\VisualAttentionAsExplanation\\notebooks\\env\\Lib\\site-packages\\tensorflow\\python\\eager\\polymorphic_function\\polymorphic_function.py:833\u001b[39m, in \u001b[36mFunction.__call__\u001b[39m\u001b[34m(self, *args, **kwds)\u001b[39m\n\u001b[32m    830\u001b[39m compiler = \u001b[33m\"\u001b[39m\u001b[33mxla\u001b[39m\u001b[33m\"\u001b[39m \u001b[38;5;28;01mif\u001b[39;00m \u001b[38;5;28mself\u001b[39m._jit_compile \u001b[38;5;28;01melse\u001b[39;00m \u001b[33m\"\u001b[39m\u001b[33mnonXla\u001b[39m\u001b[33m\"\u001b[39m\n\u001b[32m    832\u001b[39m \u001b[38;5;28;01mwith\u001b[39;00m OptionalXlaContext(\u001b[38;5;28mself\u001b[39m._jit_compile):\n\u001b[32m--> \u001b[39m\u001b[32m833\u001b[39m   result = \u001b[38;5;28;43mself\u001b[39;49m\u001b[43m.\u001b[49m\u001b[43m_call\u001b[49m\u001b[43m(\u001b[49m\u001b[43m*\u001b[49m\u001b[43margs\u001b[49m\u001b[43m,\u001b[49m\u001b[43m \u001b[49m\u001b[43m*\u001b[49m\u001b[43m*\u001b[49m\u001b[43mkwds\u001b[49m\u001b[43m)\u001b[49m\n\u001b[32m    835\u001b[39m new_tracing_count = \u001b[38;5;28mself\u001b[39m.experimental_get_tracing_count()\n\u001b[32m    836\u001b[39m without_tracing = (tracing_count == new_tracing_count)\n",
      "\u001b[36mFile \u001b[39m\u001b[32m~\\Desktop\\VisualAttentionAsExplanation\\notebooks\\env\\Lib\\site-packages\\tensorflow\\python\\eager\\polymorphic_function\\polymorphic_function.py:878\u001b[39m, in \u001b[36mFunction._call\u001b[39m\u001b[34m(self, *args, **kwds)\u001b[39m\n\u001b[32m    875\u001b[39m \u001b[38;5;28mself\u001b[39m._lock.release()\n\u001b[32m    876\u001b[39m \u001b[38;5;66;03m# In this case we have not created variables on the first call. So we can\u001b[39;00m\n\u001b[32m    877\u001b[39m \u001b[38;5;66;03m# run the first trace but we should fail if variables are created.\u001b[39;00m\n\u001b[32m--> \u001b[39m\u001b[32m878\u001b[39m results = \u001b[43mtracing_compilation\u001b[49m\u001b[43m.\u001b[49m\u001b[43mcall_function\u001b[49m\u001b[43m(\u001b[49m\n\u001b[32m    879\u001b[39m \u001b[43m    \u001b[49m\u001b[43margs\u001b[49m\u001b[43m,\u001b[49m\u001b[43m \u001b[49m\u001b[43mkwds\u001b[49m\u001b[43m,\u001b[49m\u001b[43m \u001b[49m\u001b[38;5;28;43mself\u001b[39;49m\u001b[43m.\u001b[49m\u001b[43m_variable_creation_config\u001b[49m\n\u001b[32m    880\u001b[39m \u001b[43m\u001b[49m\u001b[43m)\u001b[49m\n\u001b[32m    881\u001b[39m \u001b[38;5;28;01mif\u001b[39;00m \u001b[38;5;28mself\u001b[39m._created_variables:\n\u001b[32m    882\u001b[39m   \u001b[38;5;28;01mraise\u001b[39;00m \u001b[38;5;167;01mValueError\u001b[39;00m(\u001b[33m\"\u001b[39m\u001b[33mCreating variables on a non-first call to a function\u001b[39m\u001b[33m\"\u001b[39m\n\u001b[32m    883\u001b[39m                    \u001b[33m\"\u001b[39m\u001b[33m decorated with tf.function.\u001b[39m\u001b[33m\"\u001b[39m)\n",
      "\u001b[36mFile \u001b[39m\u001b[32m~\\Desktop\\VisualAttentionAsExplanation\\notebooks\\env\\Lib\\site-packages\\tensorflow\\python\\eager\\polymorphic_function\\tracing_compilation.py:139\u001b[39m, in \u001b[36mcall_function\u001b[39m\u001b[34m(args, kwargs, tracing_options)\u001b[39m\n\u001b[32m    137\u001b[39m bound_args = function.function_type.bind(*args, **kwargs)\n\u001b[32m    138\u001b[39m flat_inputs = function.function_type.unpack_inputs(bound_args)\n\u001b[32m--> \u001b[39m\u001b[32m139\u001b[39m \u001b[38;5;28;01mreturn\u001b[39;00m \u001b[43mfunction\u001b[49m\u001b[43m.\u001b[49m\u001b[43m_call_flat\u001b[49m\u001b[43m(\u001b[49m\u001b[43m  \u001b[49m\u001b[38;5;66;43;03m# pylint: disable=protected-access\u001b[39;49;00m\n\u001b[32m    140\u001b[39m \u001b[43m    \u001b[49m\u001b[43mflat_inputs\u001b[49m\u001b[43m,\u001b[49m\u001b[43m \u001b[49m\u001b[43mcaptured_inputs\u001b[49m\u001b[43m=\u001b[49m\u001b[43mfunction\u001b[49m\u001b[43m.\u001b[49m\u001b[43mcaptured_inputs\u001b[49m\n\u001b[32m    141\u001b[39m \u001b[43m\u001b[49m\u001b[43m)\u001b[49m\n",
      "\u001b[36mFile \u001b[39m\u001b[32m~\\Desktop\\VisualAttentionAsExplanation\\notebooks\\env\\Lib\\site-packages\\tensorflow\\python\\eager\\polymorphic_function\\concrete_function.py:1322\u001b[39m, in \u001b[36mConcreteFunction._call_flat\u001b[39m\u001b[34m(self, tensor_inputs, captured_inputs)\u001b[39m\n\u001b[32m   1318\u001b[39m possible_gradient_type = gradients_util.PossibleTapeGradientTypes(args)\n\u001b[32m   1319\u001b[39m \u001b[38;5;28;01mif\u001b[39;00m (possible_gradient_type == gradients_util.POSSIBLE_GRADIENT_TYPES_NONE\n\u001b[32m   1320\u001b[39m     \u001b[38;5;129;01mand\u001b[39;00m executing_eagerly):\n\u001b[32m   1321\u001b[39m   \u001b[38;5;66;03m# No tape is watching; skip to running the function.\u001b[39;00m\n\u001b[32m-> \u001b[39m\u001b[32m1322\u001b[39m   \u001b[38;5;28;01mreturn\u001b[39;00m \u001b[38;5;28;43mself\u001b[39;49m\u001b[43m.\u001b[49m\u001b[43m_inference_function\u001b[49m\u001b[43m.\u001b[49m\u001b[43mcall_preflattened\u001b[49m\u001b[43m(\u001b[49m\u001b[43margs\u001b[49m\u001b[43m)\u001b[49m\n\u001b[32m   1323\u001b[39m forward_backward = \u001b[38;5;28mself\u001b[39m._select_forward_and_backward_functions(\n\u001b[32m   1324\u001b[39m     args,\n\u001b[32m   1325\u001b[39m     possible_gradient_type,\n\u001b[32m   1326\u001b[39m     executing_eagerly)\n\u001b[32m   1327\u001b[39m forward_function, args_with_tangents = forward_backward.forward()\n",
      "\u001b[36mFile \u001b[39m\u001b[32m~\\Desktop\\VisualAttentionAsExplanation\\notebooks\\env\\Lib\\site-packages\\tensorflow\\python\\eager\\polymorphic_function\\atomic_function.py:216\u001b[39m, in \u001b[36mAtomicFunction.call_preflattened\u001b[39m\u001b[34m(self, args)\u001b[39m\n\u001b[32m    214\u001b[39m \u001b[38;5;28;01mdef\u001b[39;00m\u001b[38;5;250m \u001b[39m\u001b[34mcall_preflattened\u001b[39m(\u001b[38;5;28mself\u001b[39m, args: Sequence[core.Tensor]) -> Any:\n\u001b[32m    215\u001b[39m \u001b[38;5;250m  \u001b[39m\u001b[33;03m\"\"\"Calls with flattened tensor inputs and returns the structured output.\"\"\"\u001b[39;00m\n\u001b[32m--> \u001b[39m\u001b[32m216\u001b[39m   flat_outputs = \u001b[38;5;28;43mself\u001b[39;49m\u001b[43m.\u001b[49m\u001b[43mcall_flat\u001b[49m\u001b[43m(\u001b[49m\u001b[43m*\u001b[49m\u001b[43margs\u001b[49m\u001b[43m)\u001b[49m\n\u001b[32m    217\u001b[39m   \u001b[38;5;28;01mreturn\u001b[39;00m \u001b[38;5;28mself\u001b[39m.function_type.pack_output(flat_outputs)\n",
      "\u001b[36mFile \u001b[39m\u001b[32m~\\Desktop\\VisualAttentionAsExplanation\\notebooks\\env\\Lib\\site-packages\\tensorflow\\python\\eager\\polymorphic_function\\atomic_function.py:251\u001b[39m, in \u001b[36mAtomicFunction.call_flat\u001b[39m\u001b[34m(self, *args)\u001b[39m\n\u001b[32m    249\u001b[39m \u001b[38;5;28;01mwith\u001b[39;00m record.stop_recording():\n\u001b[32m    250\u001b[39m   \u001b[38;5;28;01mif\u001b[39;00m \u001b[38;5;28mself\u001b[39m._bound_context.executing_eagerly():\n\u001b[32m--> \u001b[39m\u001b[32m251\u001b[39m     outputs = \u001b[38;5;28;43mself\u001b[39;49m\u001b[43m.\u001b[49m\u001b[43m_bound_context\u001b[49m\u001b[43m.\u001b[49m\u001b[43mcall_function\u001b[49m\u001b[43m(\u001b[49m\n\u001b[32m    252\u001b[39m \u001b[43m        \u001b[49m\u001b[38;5;28;43mself\u001b[39;49m\u001b[43m.\u001b[49m\u001b[43mname\u001b[49m\u001b[43m,\u001b[49m\n\u001b[32m    253\u001b[39m \u001b[43m        \u001b[49m\u001b[38;5;28;43mlist\u001b[39;49m\u001b[43m(\u001b[49m\u001b[43margs\u001b[49m\u001b[43m)\u001b[49m\u001b[43m,\u001b[49m\n\u001b[32m    254\u001b[39m \u001b[43m        \u001b[49m\u001b[38;5;28;43mlen\u001b[39;49m\u001b[43m(\u001b[49m\u001b[38;5;28;43mself\u001b[39;49m\u001b[43m.\u001b[49m\u001b[43mfunction_type\u001b[49m\u001b[43m.\u001b[49m\u001b[43mflat_outputs\u001b[49m\u001b[43m)\u001b[49m\u001b[43m,\u001b[49m\n\u001b[32m    255\u001b[39m \u001b[43m    \u001b[49m\u001b[43m)\u001b[49m\n\u001b[32m    256\u001b[39m   \u001b[38;5;28;01melse\u001b[39;00m:\n\u001b[32m    257\u001b[39m     outputs = make_call_op_in_graph(\n\u001b[32m    258\u001b[39m         \u001b[38;5;28mself\u001b[39m,\n\u001b[32m    259\u001b[39m         \u001b[38;5;28mlist\u001b[39m(args),\n\u001b[32m    260\u001b[39m         \u001b[38;5;28mself\u001b[39m._bound_context.function_call_options.as_attrs(),\n\u001b[32m    261\u001b[39m     )\n",
      "\u001b[36mFile \u001b[39m\u001b[32m~\\Desktop\\VisualAttentionAsExplanation\\notebooks\\env\\Lib\\site-packages\\tensorflow\\python\\eager\\context.py:1688\u001b[39m, in \u001b[36mContext.call_function\u001b[39m\u001b[34m(self, name, tensor_inputs, num_outputs)\u001b[39m\n\u001b[32m   1686\u001b[39m cancellation_context = cancellation.context()\n\u001b[32m   1687\u001b[39m \u001b[38;5;28;01mif\u001b[39;00m cancellation_context \u001b[38;5;129;01mis\u001b[39;00m \u001b[38;5;28;01mNone\u001b[39;00m:\n\u001b[32m-> \u001b[39m\u001b[32m1688\u001b[39m   outputs = \u001b[43mexecute\u001b[49m\u001b[43m.\u001b[49m\u001b[43mexecute\u001b[49m\u001b[43m(\u001b[49m\n\u001b[32m   1689\u001b[39m \u001b[43m      \u001b[49m\u001b[43mname\u001b[49m\u001b[43m.\u001b[49m\u001b[43mdecode\u001b[49m\u001b[43m(\u001b[49m\u001b[33;43m\"\u001b[39;49m\u001b[33;43mutf-8\u001b[39;49m\u001b[33;43m\"\u001b[39;49m\u001b[43m)\u001b[49m\u001b[43m,\u001b[49m\n\u001b[32m   1690\u001b[39m \u001b[43m      \u001b[49m\u001b[43mnum_outputs\u001b[49m\u001b[43m=\u001b[49m\u001b[43mnum_outputs\u001b[49m\u001b[43m,\u001b[49m\n\u001b[32m   1691\u001b[39m \u001b[43m      \u001b[49m\u001b[43minputs\u001b[49m\u001b[43m=\u001b[49m\u001b[43mtensor_inputs\u001b[49m\u001b[43m,\u001b[49m\n\u001b[32m   1692\u001b[39m \u001b[43m      \u001b[49m\u001b[43mattrs\u001b[49m\u001b[43m=\u001b[49m\u001b[43mattrs\u001b[49m\u001b[43m,\u001b[49m\n\u001b[32m   1693\u001b[39m \u001b[43m      \u001b[49m\u001b[43mctx\u001b[49m\u001b[43m=\u001b[49m\u001b[38;5;28;43mself\u001b[39;49m\u001b[43m,\u001b[49m\n\u001b[32m   1694\u001b[39m \u001b[43m  \u001b[49m\u001b[43m)\u001b[49m\n\u001b[32m   1695\u001b[39m \u001b[38;5;28;01melse\u001b[39;00m:\n\u001b[32m   1696\u001b[39m   outputs = execute.execute_with_cancellation(\n\u001b[32m   1697\u001b[39m       name.decode(\u001b[33m\"\u001b[39m\u001b[33mutf-8\u001b[39m\u001b[33m\"\u001b[39m),\n\u001b[32m   1698\u001b[39m       num_outputs=num_outputs,\n\u001b[32m   (...)\u001b[39m\u001b[32m   1702\u001b[39m       cancellation_manager=cancellation_context,\n\u001b[32m   1703\u001b[39m   )\n",
      "\u001b[36mFile \u001b[39m\u001b[32m~\\Desktop\\VisualAttentionAsExplanation\\notebooks\\env\\Lib\\site-packages\\tensorflow\\python\\eager\\execute.py:53\u001b[39m, in \u001b[36mquick_execute\u001b[39m\u001b[34m(op_name, num_outputs, inputs, attrs, ctx, name)\u001b[39m\n\u001b[32m     51\u001b[39m \u001b[38;5;28;01mtry\u001b[39;00m:\n\u001b[32m     52\u001b[39m   ctx.ensure_initialized()\n\u001b[32m---> \u001b[39m\u001b[32m53\u001b[39m   tensors = \u001b[43mpywrap_tfe\u001b[49m\u001b[43m.\u001b[49m\u001b[43mTFE_Py_Execute\u001b[49m\u001b[43m(\u001b[49m\u001b[43mctx\u001b[49m\u001b[43m.\u001b[49m\u001b[43m_handle\u001b[49m\u001b[43m,\u001b[49m\u001b[43m \u001b[49m\u001b[43mdevice_name\u001b[49m\u001b[43m,\u001b[49m\u001b[43m \u001b[49m\u001b[43mop_name\u001b[49m\u001b[43m,\u001b[49m\n\u001b[32m     54\u001b[39m \u001b[43m                                      \u001b[49m\u001b[43minputs\u001b[49m\u001b[43m,\u001b[49m\u001b[43m \u001b[49m\u001b[43mattrs\u001b[49m\u001b[43m,\u001b[49m\u001b[43m \u001b[49m\u001b[43mnum_outputs\u001b[49m\u001b[43m)\u001b[49m\n\u001b[32m     55\u001b[39m \u001b[38;5;28;01mexcept\u001b[39;00m core._NotOkStatusException \u001b[38;5;28;01mas\u001b[39;00m e:\n\u001b[32m     56\u001b[39m   \u001b[38;5;28;01mif\u001b[39;00m name \u001b[38;5;129;01mis\u001b[39;00m \u001b[38;5;129;01mnot\u001b[39;00m \u001b[38;5;28;01mNone\u001b[39;00m:\n",
      "\u001b[31mKeyboardInterrupt\u001b[39m: "
     ]
    }
   ],
   "source": [
    "history = model.fit(train_generator,\n",
    "                    epochs = EPOCHS,\n",
    "                    initial_epoch=start_epoch\n",
    "                    validation_data = val_generator,\n",
    "                    callbacks = callback_list)"
   ]
  },
  {
   "cell_type": "markdown",
   "id": "cd3f2e9c-3411-4d3f-bdfb-e1113dc50e33",
   "metadata": {},
   "source": [
    "## Saving trained model and statistics"
   ]
  },
  {
   "cell_type": "code",
   "execution_count": null,
   "id": "6dc4e263-8599-4e4f-933c-64b5417e4c7b",
   "metadata": {},
   "outputs": [],
   "source": [
    "save_model(model, \"TrainedModels\\\\TrainedCbamModel.keras\", include_optimizer=True)"
   ]
  },
  {
   "cell_type": "code",
   "execution_count": null,
   "id": "f30a2c5c-f8a9-4bf7-b115-4ab51374788b",
   "metadata": {},
   "outputs": [],
   "source": [
    "with open('..\\\\Statistics\\\\TrainingStatistics\\\\CbamTraining.pkl', 'wb') as file:\n",
    "    pickle.dump(history.history, file)"
   ]
  }
 ],
 "metadata": {
  "kernelspec": {
   "display_name": "VisualAttentionAsExplanation",
   "language": "python",
   "name": "visualattentionasexplanation"
  },
  "language_info": {
   "codemirror_mode": {
    "name": "ipython",
    "version": 3
   },
   "file_extension": ".py",
   "mimetype": "text/x-python",
   "name": "python",
   "nbconvert_exporter": "python",
   "pygments_lexer": "ipython3",
   "version": "3.13.6"
  }
 },
 "nbformat": 4,
 "nbformat_minor": 5
}
